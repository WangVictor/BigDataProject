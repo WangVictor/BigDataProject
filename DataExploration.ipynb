{
 "cells": [
  {
   "cell_type": "code",
   "execution_count": 1,
   "metadata": {
    "collapsed": true
   },
   "outputs": [],
   "source": [
    "import pandas as pd\n",
    "import matplotlib.pyplot as plt\n",
    "%matplotlib inline"
   ]
  },
  {
   "cell_type": "code",
   "execution_count": 2,
   "metadata": {
    "collapsed": false,
    "scrolled": true
   },
   "outputs": [
    {
     "name": "stderr",
     "output_type": "stream",
     "text": [
      "/Users/peimengsui/anaconda/lib/python3.5/site-packages/IPython/core/interactiveshell.py:2717: DtypeWarning: Columns (17) have mixed types. Specify dtype option on import or set low_memory=False.\n",
      "  interactivity=interactivity, compiler=compiler, result=result)\n"
     ]
    }
   ],
   "source": [
    "cleaned_data = pd.read_csv(\"NYPD_Complaint_Data_Historic.csv\")"
   ]
  },
  {
   "cell_type": "code",
   "execution_count": 3,
   "metadata": {
    "collapsed": false,
    "scrolled": true
   },
   "outputs": [
    {
     "data": {
      "text/html": [
       "<div>\n",
       "<table border=\"1\" class=\"dataframe\">\n",
       "  <thead>\n",
       "    <tr style=\"text-align: right;\">\n",
       "      <th></th>\n",
       "      <th>CMPLNT_NUM</th>\n",
       "      <th>CMPLNT_FR_DT</th>\n",
       "      <th>CMPLNT_FR_TM</th>\n",
       "      <th>CMPLNT_TO_DT</th>\n",
       "      <th>CMPLNT_TO_TM</th>\n",
       "      <th>RPT_DT</th>\n",
       "      <th>KY_CD</th>\n",
       "      <th>OFNS_DESC</th>\n",
       "      <th>PD_CD</th>\n",
       "      <th>PD_DESC</th>\n",
       "      <th>...</th>\n",
       "      <th>ADDR_PCT_CD</th>\n",
       "      <th>LOC_OF_OCCUR_DESC</th>\n",
       "      <th>PREM_TYP_DESC</th>\n",
       "      <th>PARKS_NM</th>\n",
       "      <th>HADEVELOPT</th>\n",
       "      <th>X_COORD_CD</th>\n",
       "      <th>Y_COORD_CD</th>\n",
       "      <th>Latitude</th>\n",
       "      <th>Longitude</th>\n",
       "      <th>Lat_Lon</th>\n",
       "    </tr>\n",
       "  </thead>\n",
       "  <tbody>\n",
       "    <tr>\n",
       "      <th>0</th>\n",
       "      <td>101109527</td>\n",
       "      <td>12/31/2015</td>\n",
       "      <td>23:45:00</td>\n",
       "      <td>NaN</td>\n",
       "      <td>NaN</td>\n",
       "      <td>12/31/2015</td>\n",
       "      <td>113</td>\n",
       "      <td>FORGERY</td>\n",
       "      <td>729.0</td>\n",
       "      <td>FORGERY,ETC.,UNCLASSIFIED-FELO</td>\n",
       "      <td>...</td>\n",
       "      <td>44.0</td>\n",
       "      <td>INSIDE</td>\n",
       "      <td>BAR/NIGHT CLUB</td>\n",
       "      <td>NaN</td>\n",
       "      <td>NaN</td>\n",
       "      <td>1007314.0</td>\n",
       "      <td>241257.0</td>\n",
       "      <td>40.828848</td>\n",
       "      <td>-73.916661</td>\n",
       "      <td>(40.828848333, -73.916661142)</td>\n",
       "    </tr>\n",
       "    <tr>\n",
       "      <th>1</th>\n",
       "      <td>153401121</td>\n",
       "      <td>12/31/2015</td>\n",
       "      <td>23:36:00</td>\n",
       "      <td>NaN</td>\n",
       "      <td>NaN</td>\n",
       "      <td>12/31/2015</td>\n",
       "      <td>101</td>\n",
       "      <td>MURDER &amp; NON-NEGL. MANSLAUGHTER</td>\n",
       "      <td>NaN</td>\n",
       "      <td>NaN</td>\n",
       "      <td>...</td>\n",
       "      <td>103.0</td>\n",
       "      <td>OUTSIDE</td>\n",
       "      <td>NaN</td>\n",
       "      <td>NaN</td>\n",
       "      <td>NaN</td>\n",
       "      <td>1043991.0</td>\n",
       "      <td>193406.0</td>\n",
       "      <td>40.697338</td>\n",
       "      <td>-73.784557</td>\n",
       "      <td>(40.697338138, -73.784556739)</td>\n",
       "    </tr>\n",
       "    <tr>\n",
       "      <th>2</th>\n",
       "      <td>569369778</td>\n",
       "      <td>12/31/2015</td>\n",
       "      <td>23:30:00</td>\n",
       "      <td>NaN</td>\n",
       "      <td>NaN</td>\n",
       "      <td>12/31/2015</td>\n",
       "      <td>117</td>\n",
       "      <td>DANGEROUS DRUGS</td>\n",
       "      <td>503.0</td>\n",
       "      <td>CONTROLLED SUBSTANCE,INTENT TO</td>\n",
       "      <td>...</td>\n",
       "      <td>28.0</td>\n",
       "      <td>NaN</td>\n",
       "      <td>OTHER</td>\n",
       "      <td>NaN</td>\n",
       "      <td>NaN</td>\n",
       "      <td>999463.0</td>\n",
       "      <td>231690.0</td>\n",
       "      <td>40.802607</td>\n",
       "      <td>-73.945052</td>\n",
       "      <td>(40.802606608, -73.945051911)</td>\n",
       "    </tr>\n",
       "    <tr>\n",
       "      <th>3</th>\n",
       "      <td>968417082</td>\n",
       "      <td>12/31/2015</td>\n",
       "      <td>23:30:00</td>\n",
       "      <td>NaN</td>\n",
       "      <td>NaN</td>\n",
       "      <td>12/31/2015</td>\n",
       "      <td>344</td>\n",
       "      <td>ASSAULT 3 &amp; RELATED OFFENSES</td>\n",
       "      <td>101.0</td>\n",
       "      <td>ASSAULT 3</td>\n",
       "      <td>...</td>\n",
       "      <td>105.0</td>\n",
       "      <td>INSIDE</td>\n",
       "      <td>RESIDENCE-HOUSE</td>\n",
       "      <td>NaN</td>\n",
       "      <td>NaN</td>\n",
       "      <td>1060183.0</td>\n",
       "      <td>177862.0</td>\n",
       "      <td>40.654549</td>\n",
       "      <td>-73.726339</td>\n",
       "      <td>(40.654549444, -73.726338791)</td>\n",
       "    </tr>\n",
       "    <tr>\n",
       "      <th>4</th>\n",
       "      <td>641637920</td>\n",
       "      <td>12/31/2015</td>\n",
       "      <td>23:25:00</td>\n",
       "      <td>12/31/2015</td>\n",
       "      <td>23:30:00</td>\n",
       "      <td>12/31/2015</td>\n",
       "      <td>344</td>\n",
       "      <td>ASSAULT 3 &amp; RELATED OFFENSES</td>\n",
       "      <td>101.0</td>\n",
       "      <td>ASSAULT 3</td>\n",
       "      <td>...</td>\n",
       "      <td>13.0</td>\n",
       "      <td>FRONT OF</td>\n",
       "      <td>OTHER</td>\n",
       "      <td>NaN</td>\n",
       "      <td>NaN</td>\n",
       "      <td>987606.0</td>\n",
       "      <td>208148.0</td>\n",
       "      <td>40.738002</td>\n",
       "      <td>-73.987891</td>\n",
       "      <td>(40.7380024, -73.98789129)</td>\n",
       "    </tr>\n",
       "  </tbody>\n",
       "</table>\n",
       "<p>5 rows × 24 columns</p>\n",
       "</div>"
      ],
      "text/plain": [
       "   CMPLNT_NUM CMPLNT_FR_DT CMPLNT_FR_TM CMPLNT_TO_DT CMPLNT_TO_TM      RPT_DT  \\\n",
       "0   101109527   12/31/2015     23:45:00          NaN          NaN  12/31/2015   \n",
       "1   153401121   12/31/2015     23:36:00          NaN          NaN  12/31/2015   \n",
       "2   569369778   12/31/2015     23:30:00          NaN          NaN  12/31/2015   \n",
       "3   968417082   12/31/2015     23:30:00          NaN          NaN  12/31/2015   \n",
       "4   641637920   12/31/2015     23:25:00   12/31/2015     23:30:00  12/31/2015   \n",
       "\n",
       "   KY_CD                        OFNS_DESC  PD_CD  \\\n",
       "0    113                          FORGERY  729.0   \n",
       "1    101  MURDER & NON-NEGL. MANSLAUGHTER    NaN   \n",
       "2    117                  DANGEROUS DRUGS  503.0   \n",
       "3    344     ASSAULT 3 & RELATED OFFENSES  101.0   \n",
       "4    344     ASSAULT 3 & RELATED OFFENSES  101.0   \n",
       "\n",
       "                          PD_DESC              ...               ADDR_PCT_CD  \\\n",
       "0  FORGERY,ETC.,UNCLASSIFIED-FELO              ...                      44.0   \n",
       "1                             NaN              ...                     103.0   \n",
       "2  CONTROLLED SUBSTANCE,INTENT TO              ...                      28.0   \n",
       "3                       ASSAULT 3              ...                     105.0   \n",
       "4                       ASSAULT 3              ...                      13.0   \n",
       "\n",
       "  LOC_OF_OCCUR_DESC    PREM_TYP_DESC PARKS_NM  HADEVELOPT X_COORD_CD  \\\n",
       "0            INSIDE   BAR/NIGHT CLUB      NaN         NaN  1007314.0   \n",
       "1           OUTSIDE              NaN      NaN         NaN  1043991.0   \n",
       "2               NaN            OTHER      NaN         NaN   999463.0   \n",
       "3            INSIDE  RESIDENCE-HOUSE      NaN         NaN  1060183.0   \n",
       "4          FRONT OF            OTHER      NaN         NaN   987606.0   \n",
       "\n",
       "  Y_COORD_CD   Latitude  Longitude                        Lat_Lon  \n",
       "0   241257.0  40.828848 -73.916661  (40.828848333, -73.916661142)  \n",
       "1   193406.0  40.697338 -73.784557  (40.697338138, -73.784556739)  \n",
       "2   231690.0  40.802607 -73.945052  (40.802606608, -73.945051911)  \n",
       "3   177862.0  40.654549 -73.726339  (40.654549444, -73.726338791)  \n",
       "4   208148.0  40.738002 -73.987891     (40.7380024, -73.98789129)  \n",
       "\n",
       "[5 rows x 24 columns]"
      ]
     },
     "execution_count": 3,
     "metadata": {},
     "output_type": "execute_result"
    }
   ],
   "source": [
    "cleaned_data.head()"
   ]
  },
  {
   "cell_type": "code",
   "execution_count": 4,
   "metadata": {
    "collapsed": false,
    "scrolled": true
   },
   "outputs": [
    {
     "name": "stderr",
     "output_type": "stream",
     "text": [
      "/Users/peimengsui/anaconda/lib/python3.5/site-packages/numpy/lib/function_base.py:3834: RuntimeWarning: Invalid value encountered in percentile\n",
      "  RuntimeWarning)\n"
     ]
    },
    {
     "data": {
      "text/html": [
       "<div>\n",
       "<table border=\"1\" class=\"dataframe\">\n",
       "  <thead>\n",
       "    <tr style=\"text-align: right;\">\n",
       "      <th></th>\n",
       "      <th>CMPLNT_NUM</th>\n",
       "      <th>KY_CD</th>\n",
       "      <th>PD_CD</th>\n",
       "      <th>ADDR_PCT_CD</th>\n",
       "      <th>X_COORD_CD</th>\n",
       "      <th>Y_COORD_CD</th>\n",
       "      <th>Latitude</th>\n",
       "      <th>Longitude</th>\n",
       "    </tr>\n",
       "  </thead>\n",
       "  <tbody>\n",
       "    <tr>\n",
       "      <th>count</th>\n",
       "      <td>5.101231e+06</td>\n",
       "      <td>5.101231e+06</td>\n",
       "      <td>5.096657e+06</td>\n",
       "      <td>5.100841e+06</td>\n",
       "      <td>4.913085e+06</td>\n",
       "      <td>4.913085e+06</td>\n",
       "      <td>4.913085e+06</td>\n",
       "      <td>4.913085e+06</td>\n",
       "    </tr>\n",
       "    <tr>\n",
       "      <th>mean</th>\n",
       "      <td>5.499733e+08</td>\n",
       "      <td>2.932191e+02</td>\n",
       "      <td>4.179772e+02</td>\n",
       "      <td>6.346322e+01</td>\n",
       "      <td>1.004610e+06</td>\n",
       "      <td>2.068627e+05</td>\n",
       "      <td>4.073443e+01</td>\n",
       "      <td>-7.392651e+01</td>\n",
       "    </tr>\n",
       "    <tr>\n",
       "      <th>std</th>\n",
       "      <td>2.597636e+08</td>\n",
       "      <td>1.480821e+02</td>\n",
       "      <td>2.179312e+02</td>\n",
       "      <td>3.444424e+01</td>\n",
       "      <td>2.144742e+04</td>\n",
       "      <td>3.047765e+04</td>\n",
       "      <td>8.365685e-02</td>\n",
       "      <td>7.734681e-02</td>\n",
       "    </tr>\n",
       "    <tr>\n",
       "      <th>min</th>\n",
       "      <td>1.000002e+08</td>\n",
       "      <td>1.010000e+02</td>\n",
       "      <td>1.010000e+02</td>\n",
       "      <td>1.000000e+00</td>\n",
       "      <td>9.133190e+05</td>\n",
       "      <td>1.208290e+05</td>\n",
       "      <td>4.049806e+01</td>\n",
       "      <td>-7.425508e+01</td>\n",
       "    </tr>\n",
       "    <tr>\n",
       "      <th>25%</th>\n",
       "      <td>3.250451e+08</td>\n",
       "      <td>1.170000e+02</td>\n",
       "      <td>NaN</td>\n",
       "      <td>NaN</td>\n",
       "      <td>NaN</td>\n",
       "      <td>NaN</td>\n",
       "      <td>NaN</td>\n",
       "      <td>NaN</td>\n",
       "    </tr>\n",
       "    <tr>\n",
       "      <th>50%</th>\n",
       "      <td>5.499458e+08</td>\n",
       "      <td>3.410000e+02</td>\n",
       "      <td>NaN</td>\n",
       "      <td>NaN</td>\n",
       "      <td>NaN</td>\n",
       "      <td>NaN</td>\n",
       "      <td>NaN</td>\n",
       "      <td>NaN</td>\n",
       "    </tr>\n",
       "    <tr>\n",
       "      <th>75%</th>\n",
       "      <td>7.748865e+08</td>\n",
       "      <td>3.510000e+02</td>\n",
       "      <td>NaN</td>\n",
       "      <td>NaN</td>\n",
       "      <td>NaN</td>\n",
       "      <td>NaN</td>\n",
       "      <td>NaN</td>\n",
       "      <td>NaN</td>\n",
       "    </tr>\n",
       "    <tr>\n",
       "      <th>max</th>\n",
       "      <td>9.999999e+08</td>\n",
       "      <td>8.810000e+02</td>\n",
       "      <td>9.750000e+02</td>\n",
       "      <td>1.230000e+02</td>\n",
       "      <td>1.067298e+06</td>\n",
       "      <td>2.718200e+05</td>\n",
       "      <td>4.091272e+01</td>\n",
       "      <td>-7.370032e+01</td>\n",
       "    </tr>\n",
       "  </tbody>\n",
       "</table>\n",
       "</div>"
      ],
      "text/plain": [
       "         CMPLNT_NUM         KY_CD         PD_CD   ADDR_PCT_CD    X_COORD_CD  \\\n",
       "count  5.101231e+06  5.101231e+06  5.096657e+06  5.100841e+06  4.913085e+06   \n",
       "mean   5.499733e+08  2.932191e+02  4.179772e+02  6.346322e+01  1.004610e+06   \n",
       "std    2.597636e+08  1.480821e+02  2.179312e+02  3.444424e+01  2.144742e+04   \n",
       "min    1.000002e+08  1.010000e+02  1.010000e+02  1.000000e+00  9.133190e+05   \n",
       "25%    3.250451e+08  1.170000e+02           NaN           NaN           NaN   \n",
       "50%    5.499458e+08  3.410000e+02           NaN           NaN           NaN   \n",
       "75%    7.748865e+08  3.510000e+02           NaN           NaN           NaN   \n",
       "max    9.999999e+08  8.810000e+02  9.750000e+02  1.230000e+02  1.067298e+06   \n",
       "\n",
       "         Y_COORD_CD      Latitude     Longitude  \n",
       "count  4.913085e+06  4.913085e+06  4.913085e+06  \n",
       "mean   2.068627e+05  4.073443e+01 -7.392651e+01  \n",
       "std    3.047765e+04  8.365685e-02  7.734681e-02  \n",
       "min    1.208290e+05  4.049806e+01 -7.425508e+01  \n",
       "25%             NaN           NaN           NaN  \n",
       "50%             NaN           NaN           NaN  \n",
       "75%             NaN           NaN           NaN  \n",
       "max    2.718200e+05  4.091272e+01 -7.370032e+01  "
      ]
     },
     "execution_count": 4,
     "metadata": {},
     "output_type": "execute_result"
    }
   ],
   "source": [
    "cleaned_data.describe()"
   ]
  },
  {
   "cell_type": "markdown",
   "metadata": {},
   "source": [
    "## Get base type for each column"
   ]
  },
  {
   "cell_type": "code",
   "execution_count": 5,
   "metadata": {
    "collapsed": false
   },
   "outputs": [
    {
     "data": {
      "text/plain": [
       "CMPLNT_NUM             int64\n",
       "CMPLNT_FR_DT          object\n",
       "CMPLNT_FR_TM          object\n",
       "CMPLNT_TO_DT          object\n",
       "CMPLNT_TO_TM          object\n",
       "RPT_DT                object\n",
       "KY_CD                  int64\n",
       "OFNS_DESC             object\n",
       "PD_CD                float64\n",
       "PD_DESC               object\n",
       "CRM_ATPT_CPTD_CD      object\n",
       "LAW_CAT_CD            object\n",
       "JURIS_DESC            object\n",
       "BORO_NM               object\n",
       "ADDR_PCT_CD          float64\n",
       "LOC_OF_OCCUR_DESC     object\n",
       "PREM_TYP_DESC         object\n",
       "PARKS_NM              object\n",
       "HADEVELOPT            object\n",
       "X_COORD_CD           float64\n",
       "Y_COORD_CD           float64\n",
       "Latitude             float64\n",
       "Longitude            float64\n",
       "Lat_Lon               object\n",
       "dtype: object"
      ]
     },
     "execution_count": 5,
     "metadata": {},
     "output_type": "execute_result"
    }
   ],
   "source": [
    "cleaned_data.dtypes"
   ]
  },
  {
   "cell_type": "markdown",
   "metadata": {},
   "source": [
    "## Check Uniqueness of Complaint Number"
   ]
  },
  {
   "cell_type": "code",
   "execution_count": 6,
   "metadata": {
    "collapsed": false,
    "scrolled": true
   },
   "outputs": [
    {
     "data": {
      "text/plain": [
       "True"
      ]
     },
     "execution_count": 6,
     "metadata": {},
     "output_type": "execute_result"
    }
   ],
   "source": [
    "len(cleaned_data)==len(cleaned_data.CMPLNT_NUM.unique())"
   ]
  },
  {
   "cell_type": "markdown",
   "metadata": {},
   "source": [
    "## Check if valid date"
   ]
  },
  {
   "cell_type": "code",
   "execution_count": 11,
   "metadata": {
    "collapsed": false,
    "scrolled": true
   },
   "outputs": [
    {
     "data": {
      "text/plain": [
       "655"
      ]
     },
     "execution_count": 11,
     "metadata": {},
     "output_type": "execute_result"
    }
   ],
   "source": [
    "sum(cleaned_data.CMPLNT_FR_DT.isnull())"
   ]
  },
  {
   "cell_type": "code",
   "execution_count": 12,
   "metadata": {
    "collapsed": false
   },
   "outputs": [
    {
     "data": {
      "text/plain": [
       "48"
      ]
     },
     "execution_count": 12,
     "metadata": {},
     "output_type": "execute_result"
    }
   ],
   "source": [
    "sum(cleaned_data.CMPLNT_FR_TM.isnull())"
   ]
  },
  {
   "cell_type": "code",
   "execution_count": 16,
   "metadata": {
    "collapsed": false
   },
   "outputs": [
    {
     "data": {
      "text/plain": [
       "702"
      ]
     },
     "execution_count": 16,
     "metadata": {},
     "output_type": "execute_result"
    }
   ],
   "source": [
    "sum(cleaned_data.CMPLNT_FR_TM.isnull() | cleaned_data.CMPLNT_FR_DT.isnull())"
   ]
  },
  {
   "cell_type": "code",
   "execution_count": 21,
   "metadata": {
    "collapsed": false
   },
   "outputs": [
    {
     "data": {
      "text/plain": [
       "1"
      ]
     },
     "execution_count": 21,
     "metadata": {},
     "output_type": "execute_result"
    }
   ],
   "source": [
    "sum(cleaned_data.CMPLNT_FR_TM.isnull() & cleaned_data.CMPLNT_FR_DT.isnull())"
   ]
  },
  {
   "cell_type": "code",
   "execution_count": 17,
   "metadata": {
    "collapsed": false
   },
   "outputs": [
    {
     "data": {
      "text/plain": [
       "1391478"
      ]
     },
     "execution_count": 17,
     "metadata": {},
     "output_type": "execute_result"
    }
   ],
   "source": [
    "sum(cleaned_data.CMPLNT_TO_DT.isnull())"
   ]
  },
  {
   "cell_type": "code",
   "execution_count": 19,
   "metadata": {
    "collapsed": false
   },
   "outputs": [
    {
     "data": {
      "text/plain": [
       "1387785"
      ]
     },
     "execution_count": 19,
     "metadata": {},
     "output_type": "execute_result"
    }
   ],
   "source": [
    "sum(cleaned_data.CMPLNT_TO_TM.isnull())"
   ]
  },
  {
   "cell_type": "code",
   "execution_count": 20,
   "metadata": {
    "collapsed": false
   },
   "outputs": [
    {
     "data": {
      "text/plain": [
       "1391993"
      ]
     },
     "execution_count": 20,
     "metadata": {},
     "output_type": "execute_result"
    }
   ],
   "source": [
    "sum(cleaned_data.CMPLNT_TO_TM.isnull() | cleaned_data.CMPLNT_TO_DT.isnull())"
   ]
  },
  {
   "cell_type": "code",
   "execution_count": 22,
   "metadata": {
    "collapsed": false
   },
   "outputs": [
    {
     "data": {
      "text/plain": [
       "1387270"
      ]
     },
     "execution_count": 22,
     "metadata": {},
     "output_type": "execute_result"
    }
   ],
   "source": [
    "sum(cleaned_data.CMPLNT_TO_TM.isnull() & cleaned_data.CMPLNT_TO_DT.isnull())"
   ]
  },
  {
   "cell_type": "code",
   "execution_count": 23,
   "metadata": {
    "collapsed": true
   },
   "outputs": [],
   "source": [
    "cleaned_data[\"CMPLNT_FR_YR\"]=pd.to_numeric(cleaned_data.CMPLNT_FR_DT.str[-4:],errors='ignore')\n",
    "cleaned_data[\"CMPLNT_TO_YR\"]=pd.to_numeric(cleaned_data.CMPLNT_TO_DT.str[-4:],errors='ignore')\n",
    "cleaned_data[\"CMPLNT_FR_MO\"]=pd.to_numeric(cleaned_data.CMPLNT_FR_DT.str[0:2],errors='ignore')\n",
    "cleaned_data[\"CMPLNT_TO_MO\"]=pd.to_numeric(cleaned_data.CMPLNT_TO_DT.str[0:2],errors='ignore')\n",
    "cleaned_data[\"CMPLNT_FR_DY\"]=pd.to_numeric(cleaned_data.CMPLNT_FR_DT.str[3:5],errors='ignore')\n",
    "cleaned_data[\"CMPLNT_TO_DY\"]=pd.to_numeric(cleaned_data.CMPLNT_TO_DT.str[3:5],errors='ignore')"
   ]
  },
  {
   "cell_type": "code",
   "execution_count": 24,
   "metadata": {
    "collapsed": false
   },
   "outputs": [
    {
     "name": "stderr",
     "output_type": "stream",
     "text": [
      "/Users/peimengsui/anaconda/lib/python3.5/site-packages/numpy/lib/function_base.py:3834: RuntimeWarning: Invalid value encountered in percentile\n",
      "  RuntimeWarning)\n"
     ]
    },
    {
     "data": {
      "text/html": [
       "<div>\n",
       "<table border=\"1\" class=\"dataframe\">\n",
       "  <thead>\n",
       "    <tr style=\"text-align: right;\">\n",
       "      <th></th>\n",
       "      <th>CMPLNT_NUM</th>\n",
       "      <th>KY_CD</th>\n",
       "      <th>PD_CD</th>\n",
       "      <th>ADDR_PCT_CD</th>\n",
       "      <th>X_COORD_CD</th>\n",
       "      <th>Y_COORD_CD</th>\n",
       "      <th>Latitude</th>\n",
       "      <th>Longitude</th>\n",
       "      <th>CMPLNT_FR_YR</th>\n",
       "      <th>CMPLNT_TO_YR</th>\n",
       "      <th>CMPLNT_FR_MO</th>\n",
       "      <th>CMPLNT_TO_MO</th>\n",
       "      <th>CMPLNT_FR_DY</th>\n",
       "      <th>CMPLNT_TO_DY</th>\n",
       "    </tr>\n",
       "  </thead>\n",
       "  <tbody>\n",
       "    <tr>\n",
       "      <th>count</th>\n",
       "      <td>5.101231e+06</td>\n",
       "      <td>5.101231e+06</td>\n",
       "      <td>5.096657e+06</td>\n",
       "      <td>5.100841e+06</td>\n",
       "      <td>4.913085e+06</td>\n",
       "      <td>4.913085e+06</td>\n",
       "      <td>4.913085e+06</td>\n",
       "      <td>4.913085e+06</td>\n",
       "      <td>5.100576e+06</td>\n",
       "      <td>3.709753e+06</td>\n",
       "      <td>5.100576e+06</td>\n",
       "      <td>3.709753e+06</td>\n",
       "      <td>5.100576e+06</td>\n",
       "      <td>3.709753e+06</td>\n",
       "    </tr>\n",
       "    <tr>\n",
       "      <th>mean</th>\n",
       "      <td>5.499733e+08</td>\n",
       "      <td>2.932191e+02</td>\n",
       "      <td>4.179772e+02</td>\n",
       "      <td>6.346322e+01</td>\n",
       "      <td>1.004610e+06</td>\n",
       "      <td>2.068627e+05</td>\n",
       "      <td>4.073443e+01</td>\n",
       "      <td>-7.392651e+01</td>\n",
       "      <td>2.010356e+03</td>\n",
       "      <td>2.010582e+03</td>\n",
       "      <td>6.546097e+00</td>\n",
       "      <td>6.587604e+00</td>\n",
       "      <td>1.553795e+01</td>\n",
       "      <td>1.570377e+01</td>\n",
       "    </tr>\n",
       "    <tr>\n",
       "      <th>std</th>\n",
       "      <td>2.597636e+08</td>\n",
       "      <td>1.480821e+02</td>\n",
       "      <td>2.179312e+02</td>\n",
       "      <td>3.444424e+01</td>\n",
       "      <td>2.144742e+04</td>\n",
       "      <td>3.047765e+04</td>\n",
       "      <td>8.365685e-02</td>\n",
       "      <td>7.734681e-02</td>\n",
       "      <td>3.157654e+00</td>\n",
       "      <td>2.885140e+00</td>\n",
       "      <td>3.381710e+00</td>\n",
       "      <td>3.379293e+00</td>\n",
       "      <td>8.834568e+00</td>\n",
       "      <td>8.799740e+00</td>\n",
       "    </tr>\n",
       "    <tr>\n",
       "      <th>min</th>\n",
       "      <td>1.000002e+08</td>\n",
       "      <td>1.010000e+02</td>\n",
       "      <td>1.010000e+02</td>\n",
       "      <td>1.000000e+00</td>\n",
       "      <td>9.133190e+05</td>\n",
       "      <td>1.208290e+05</td>\n",
       "      <td>4.049806e+01</td>\n",
       "      <td>-7.425508e+01</td>\n",
       "      <td>1.015000e+03</td>\n",
       "      <td>1.912000e+03</td>\n",
       "      <td>1.000000e+00</td>\n",
       "      <td>1.000000e+00</td>\n",
       "      <td>1.000000e+00</td>\n",
       "      <td>1.000000e+00</td>\n",
       "    </tr>\n",
       "    <tr>\n",
       "      <th>25%</th>\n",
       "      <td>3.250451e+08</td>\n",
       "      <td>1.170000e+02</td>\n",
       "      <td>NaN</td>\n",
       "      <td>NaN</td>\n",
       "      <td>NaN</td>\n",
       "      <td>NaN</td>\n",
       "      <td>NaN</td>\n",
       "      <td>NaN</td>\n",
       "      <td>NaN</td>\n",
       "      <td>NaN</td>\n",
       "      <td>NaN</td>\n",
       "      <td>NaN</td>\n",
       "      <td>NaN</td>\n",
       "      <td>NaN</td>\n",
       "    </tr>\n",
       "    <tr>\n",
       "      <th>50%</th>\n",
       "      <td>5.499458e+08</td>\n",
       "      <td>3.410000e+02</td>\n",
       "      <td>NaN</td>\n",
       "      <td>NaN</td>\n",
       "      <td>NaN</td>\n",
       "      <td>NaN</td>\n",
       "      <td>NaN</td>\n",
       "      <td>NaN</td>\n",
       "      <td>NaN</td>\n",
       "      <td>NaN</td>\n",
       "      <td>NaN</td>\n",
       "      <td>NaN</td>\n",
       "      <td>NaN</td>\n",
       "      <td>NaN</td>\n",
       "    </tr>\n",
       "    <tr>\n",
       "      <th>75%</th>\n",
       "      <td>7.748865e+08</td>\n",
       "      <td>3.510000e+02</td>\n",
       "      <td>NaN</td>\n",
       "      <td>NaN</td>\n",
       "      <td>NaN</td>\n",
       "      <td>NaN</td>\n",
       "      <td>NaN</td>\n",
       "      <td>NaN</td>\n",
       "      <td>NaN</td>\n",
       "      <td>NaN</td>\n",
       "      <td>NaN</td>\n",
       "      <td>NaN</td>\n",
       "      <td>NaN</td>\n",
       "      <td>NaN</td>\n",
       "    </tr>\n",
       "    <tr>\n",
       "      <th>max</th>\n",
       "      <td>9.999999e+08</td>\n",
       "      <td>8.810000e+02</td>\n",
       "      <td>9.750000e+02</td>\n",
       "      <td>1.230000e+02</td>\n",
       "      <td>1.067298e+06</td>\n",
       "      <td>2.718200e+05</td>\n",
       "      <td>4.091272e+01</td>\n",
       "      <td>-7.370032e+01</td>\n",
       "      <td>2.015000e+03</td>\n",
       "      <td>2.090000e+03</td>\n",
       "      <td>1.200000e+01</td>\n",
       "      <td>1.200000e+01</td>\n",
       "      <td>3.100000e+01</td>\n",
       "      <td>3.100000e+01</td>\n",
       "    </tr>\n",
       "  </tbody>\n",
       "</table>\n",
       "</div>"
      ],
      "text/plain": [
       "         CMPLNT_NUM         KY_CD         PD_CD   ADDR_PCT_CD    X_COORD_CD  \\\n",
       "count  5.101231e+06  5.101231e+06  5.096657e+06  5.100841e+06  4.913085e+06   \n",
       "mean   5.499733e+08  2.932191e+02  4.179772e+02  6.346322e+01  1.004610e+06   \n",
       "std    2.597636e+08  1.480821e+02  2.179312e+02  3.444424e+01  2.144742e+04   \n",
       "min    1.000002e+08  1.010000e+02  1.010000e+02  1.000000e+00  9.133190e+05   \n",
       "25%    3.250451e+08  1.170000e+02           NaN           NaN           NaN   \n",
       "50%    5.499458e+08  3.410000e+02           NaN           NaN           NaN   \n",
       "75%    7.748865e+08  3.510000e+02           NaN           NaN           NaN   \n",
       "max    9.999999e+08  8.810000e+02  9.750000e+02  1.230000e+02  1.067298e+06   \n",
       "\n",
       "         Y_COORD_CD      Latitude     Longitude  CMPLNT_FR_YR  CMPLNT_TO_YR  \\\n",
       "count  4.913085e+06  4.913085e+06  4.913085e+06  5.100576e+06  3.709753e+06   \n",
       "mean   2.068627e+05  4.073443e+01 -7.392651e+01  2.010356e+03  2.010582e+03   \n",
       "std    3.047765e+04  8.365685e-02  7.734681e-02  3.157654e+00  2.885140e+00   \n",
       "min    1.208290e+05  4.049806e+01 -7.425508e+01  1.015000e+03  1.912000e+03   \n",
       "25%             NaN           NaN           NaN           NaN           NaN   \n",
       "50%             NaN           NaN           NaN           NaN           NaN   \n",
       "75%             NaN           NaN           NaN           NaN           NaN   \n",
       "max    2.718200e+05  4.091272e+01 -7.370032e+01  2.015000e+03  2.090000e+03   \n",
       "\n",
       "       CMPLNT_FR_MO  CMPLNT_TO_MO  CMPLNT_FR_DY  CMPLNT_TO_DY  \n",
       "count  5.100576e+06  3.709753e+06  5.100576e+06  3.709753e+06  \n",
       "mean   6.546097e+00  6.587604e+00  1.553795e+01  1.570377e+01  \n",
       "std    3.381710e+00  3.379293e+00  8.834568e+00  8.799740e+00  \n",
       "min    1.000000e+00  1.000000e+00  1.000000e+00  1.000000e+00  \n",
       "25%             NaN           NaN           NaN           NaN  \n",
       "50%             NaN           NaN           NaN           NaN  \n",
       "75%             NaN           NaN           NaN           NaN  \n",
       "max    1.200000e+01  1.200000e+01  3.100000e+01  3.100000e+01  "
      ]
     },
     "execution_count": 24,
     "metadata": {},
     "output_type": "execute_result"
    }
   ],
   "source": [
    "cleaned_data.describe()"
   ]
  },
  {
   "cell_type": "code",
   "execution_count": 33,
   "metadata": {
    "collapsed": false
   },
   "outputs": [
    {
     "data": {
      "text/html": [
       "<div>\n",
       "<table border=\"1\" class=\"dataframe\">\n",
       "  <thead>\n",
       "    <tr style=\"text-align: right;\">\n",
       "      <th></th>\n",
       "      <th>CMPLNT_NUM</th>\n",
       "      <th>CMPLNT_FR_DT</th>\n",
       "      <th>CMPLNT_FR_TM</th>\n",
       "      <th>CMPLNT_TO_DT</th>\n",
       "      <th>CMPLNT_TO_TM</th>\n",
       "      <th>RPT_DT</th>\n",
       "      <th>KY_CD</th>\n",
       "      <th>OFNS_DESC</th>\n",
       "      <th>PD_CD</th>\n",
       "      <th>PD_DESC</th>\n",
       "      <th>...</th>\n",
       "      <th>Y_COORD_CD</th>\n",
       "      <th>Latitude</th>\n",
       "      <th>Longitude</th>\n",
       "      <th>Lat_Lon</th>\n",
       "      <th>CMPLNT_FR_YR</th>\n",
       "      <th>CMPLNT_TO_YR</th>\n",
       "      <th>CMPLNT_FR_MO</th>\n",
       "      <th>CMPLNT_TO_MO</th>\n",
       "      <th>CMPLNT_FR_DY</th>\n",
       "      <th>CMPLNT_TO_DY</th>\n",
       "    </tr>\n",
       "  </thead>\n",
       "  <tbody>\n",
       "    <tr>\n",
       "      <th>27341</th>\n",
       "      <td>211843983</td>\n",
       "      <td>12/04/1015</td>\n",
       "      <td>16:45:00</td>\n",
       "      <td>NaN</td>\n",
       "      <td>NaN</td>\n",
       "      <td>12/10/2015</td>\n",
       "      <td>106</td>\n",
       "      <td>FELONY ASSAULT</td>\n",
       "      <td>109.0</td>\n",
       "      <td>ASSAULT 2,1,UNCLASSIFIED</td>\n",
       "      <td>...</td>\n",
       "      <td>216641.0</td>\n",
       "      <td>40.761311</td>\n",
       "      <td>-73.973083</td>\n",
       "      <td>(40.761311039, -73.973083376)</td>\n",
       "      <td>1015.0</td>\n",
       "      <td>NaN</td>\n",
       "      <td>12.0</td>\n",
       "      <td>NaN</td>\n",
       "      <td>4.0</td>\n",
       "      <td>NaN</td>\n",
       "    </tr>\n",
       "    <tr>\n",
       "      <th>27342</th>\n",
       "      <td>131106711</td>\n",
       "      <td>12/04/1015</td>\n",
       "      <td>12:30:00</td>\n",
       "      <td>12/10/2015</td>\n",
       "      <td>12:40:00</td>\n",
       "      <td>12/10/2015</td>\n",
       "      <td>344</td>\n",
       "      <td>ASSAULT 3 &amp; RELATED OFFENSES</td>\n",
       "      <td>101.0</td>\n",
       "      <td>ASSAULT 3</td>\n",
       "      <td>...</td>\n",
       "      <td>211854.0</td>\n",
       "      <td>40.748137</td>\n",
       "      <td>-73.906245</td>\n",
       "      <td>(40.748136928, -73.906245306)</td>\n",
       "      <td>1015.0</td>\n",
       "      <td>2015.0</td>\n",
       "      <td>12.0</td>\n",
       "      <td>12.0</td>\n",
       "      <td>4.0</td>\n",
       "      <td>10.0</td>\n",
       "    </tr>\n",
       "    <tr>\n",
       "      <th>39052</th>\n",
       "      <td>821425869</td>\n",
       "      <td>11/25/1015</td>\n",
       "      <td>14:30:00</td>\n",
       "      <td>12/01/2015</td>\n",
       "      <td>14:40:00</td>\n",
       "      <td>12/01/2015</td>\n",
       "      <td>109</td>\n",
       "      <td>GRAND LARCENY</td>\n",
       "      <td>405.0</td>\n",
       "      <td>LARCENY,GRAND BY THEFT OF CREDIT CARD</td>\n",
       "      <td>...</td>\n",
       "      <td>200707.0</td>\n",
       "      <td>40.717573</td>\n",
       "      <td>-73.962535</td>\n",
       "      <td>(40.717573206, -73.962534952)</td>\n",
       "      <td>1015.0</td>\n",
       "      <td>2015.0</td>\n",
       "      <td>11.0</td>\n",
       "      <td>12.0</td>\n",
       "      <td>25.0</td>\n",
       "      <td>1.0</td>\n",
       "    </tr>\n",
       "    <tr>\n",
       "      <th>48548</th>\n",
       "      <td>161924074</td>\n",
       "      <td>09/26/1015</td>\n",
       "      <td>12:11:00</td>\n",
       "      <td>11/23/2015</td>\n",
       "      <td>13:00:00</td>\n",
       "      <td>11/23/2015</td>\n",
       "      <td>109</td>\n",
       "      <td>GRAND LARCENY</td>\n",
       "      <td>415.0</td>\n",
       "      <td>LARCENY,GRAND FROM PERSON,PICK</td>\n",
       "      <td>...</td>\n",
       "      <td>232339.0</td>\n",
       "      <td>40.804384</td>\n",
       "      <td>-73.937422</td>\n",
       "      <td>(40.804384046, -73.937421669)</td>\n",
       "      <td>1015.0</td>\n",
       "      <td>2015.0</td>\n",
       "      <td>9.0</td>\n",
       "      <td>11.0</td>\n",
       "      <td>26.0</td>\n",
       "      <td>23.0</td>\n",
       "    </tr>\n",
       "    <tr>\n",
       "      <th>72345</th>\n",
       "      <td>414788103</td>\n",
       "      <td>10/27/1015</td>\n",
       "      <td>19:30:00</td>\n",
       "      <td>NaN</td>\n",
       "      <td>NaN</td>\n",
       "      <td>11/05/2015</td>\n",
       "      <td>341</td>\n",
       "      <td>PETIT LARCENY</td>\n",
       "      <td>338.0</td>\n",
       "      <td>LARCENY,PETIT FROM BUILDING,UN</td>\n",
       "      <td>...</td>\n",
       "      <td>184874.0</td>\n",
       "      <td>40.674073</td>\n",
       "      <td>-73.894438</td>\n",
       "      <td>(40.674072961, -73.894438323)</td>\n",
       "      <td>1015.0</td>\n",
       "      <td>NaN</td>\n",
       "      <td>10.0</td>\n",
       "      <td>NaN</td>\n",
       "      <td>27.0</td>\n",
       "      <td>NaN</td>\n",
       "    </tr>\n",
       "    <tr>\n",
       "      <th>89523</th>\n",
       "      <td>148685327</td>\n",
       "      <td>10/17/1015</td>\n",
       "      <td>16:00:00</td>\n",
       "      <td>10/23/2015</td>\n",
       "      <td>16:05:00</td>\n",
       "      <td>10/23/2015</td>\n",
       "      <td>126</td>\n",
       "      <td>MISCELLANEOUS PENAL LAW</td>\n",
       "      <td>198.0</td>\n",
       "      <td>CRIMINAL CONTEMPT 1</td>\n",
       "      <td>...</td>\n",
       "      <td>237834.0</td>\n",
       "      <td>40.819435</td>\n",
       "      <td>-73.894927</td>\n",
       "      <td>(40.819435407, -73.894926721)</td>\n",
       "      <td>1015.0</td>\n",
       "      <td>2015.0</td>\n",
       "      <td>10.0</td>\n",
       "      <td>10.0</td>\n",
       "      <td>17.0</td>\n",
       "      <td>23.0</td>\n",
       "    </tr>\n",
       "    <tr>\n",
       "      <th>119248</th>\n",
       "      <td>704380800</td>\n",
       "      <td>09/16/1015</td>\n",
       "      <td>12:00:00</td>\n",
       "      <td>09/22/2015</td>\n",
       "      <td>12:30:00</td>\n",
       "      <td>10/01/2015</td>\n",
       "      <td>233</td>\n",
       "      <td>SEX CRIMES</td>\n",
       "      <td>175.0</td>\n",
       "      <td>SEXUAL ABUSE 3,2</td>\n",
       "      <td>...</td>\n",
       "      <td>NaN</td>\n",
       "      <td>NaN</td>\n",
       "      <td>NaN</td>\n",
       "      <td>NaN</td>\n",
       "      <td>1015.0</td>\n",
       "      <td>2015.0</td>\n",
       "      <td>9.0</td>\n",
       "      <td>9.0</td>\n",
       "      <td>16.0</td>\n",
       "      <td>22.0</td>\n",
       "    </tr>\n",
       "  </tbody>\n",
       "</table>\n",
       "<p>7 rows × 30 columns</p>\n",
       "</div>"
      ],
      "text/plain": [
       "        CMPLNT_NUM CMPLNT_FR_DT CMPLNT_FR_TM CMPLNT_TO_DT CMPLNT_TO_TM  \\\n",
       "27341    211843983   12/04/1015     16:45:00          NaN          NaN   \n",
       "27342    131106711   12/04/1015     12:30:00   12/10/2015     12:40:00   \n",
       "39052    821425869   11/25/1015     14:30:00   12/01/2015     14:40:00   \n",
       "48548    161924074   09/26/1015     12:11:00   11/23/2015     13:00:00   \n",
       "72345    414788103   10/27/1015     19:30:00          NaN          NaN   \n",
       "89523    148685327   10/17/1015     16:00:00   10/23/2015     16:05:00   \n",
       "119248   704380800   09/16/1015     12:00:00   09/22/2015     12:30:00   \n",
       "\n",
       "            RPT_DT  KY_CD                     OFNS_DESC  PD_CD  \\\n",
       "27341   12/10/2015    106                FELONY ASSAULT  109.0   \n",
       "27342   12/10/2015    344  ASSAULT 3 & RELATED OFFENSES  101.0   \n",
       "39052   12/01/2015    109                 GRAND LARCENY  405.0   \n",
       "48548   11/23/2015    109                 GRAND LARCENY  415.0   \n",
       "72345   11/05/2015    341                 PETIT LARCENY  338.0   \n",
       "89523   10/23/2015    126       MISCELLANEOUS PENAL LAW  198.0   \n",
       "119248  10/01/2015    233                    SEX CRIMES  175.0   \n",
       "\n",
       "                                      PD_DESC      ...      Y_COORD_CD  \\\n",
       "27341                ASSAULT 2,1,UNCLASSIFIED      ...        216641.0   \n",
       "27342                               ASSAULT 3      ...        211854.0   \n",
       "39052   LARCENY,GRAND BY THEFT OF CREDIT CARD      ...        200707.0   \n",
       "48548          LARCENY,GRAND FROM PERSON,PICK      ...        232339.0   \n",
       "72345          LARCENY,PETIT FROM BUILDING,UN      ...        184874.0   \n",
       "89523                     CRIMINAL CONTEMPT 1      ...        237834.0   \n",
       "119248                       SEXUAL ABUSE 3,2      ...             NaN   \n",
       "\n",
       "         Latitude  Longitude                        Lat_Lon  CMPLNT_FR_YR  \\\n",
       "27341   40.761311 -73.973083  (40.761311039, -73.973083376)        1015.0   \n",
       "27342   40.748137 -73.906245  (40.748136928, -73.906245306)        1015.0   \n",
       "39052   40.717573 -73.962535  (40.717573206, -73.962534952)        1015.0   \n",
       "48548   40.804384 -73.937422  (40.804384046, -73.937421669)        1015.0   \n",
       "72345   40.674073 -73.894438  (40.674072961, -73.894438323)        1015.0   \n",
       "89523   40.819435 -73.894927  (40.819435407, -73.894926721)        1015.0   \n",
       "119248        NaN        NaN                            NaN        1015.0   \n",
       "\n",
       "       CMPLNT_TO_YR CMPLNT_FR_MO CMPLNT_TO_MO CMPLNT_FR_DY  CMPLNT_TO_DY  \n",
       "27341           NaN         12.0          NaN          4.0           NaN  \n",
       "27342        2015.0         12.0         12.0          4.0          10.0  \n",
       "39052        2015.0         11.0         12.0         25.0           1.0  \n",
       "48548        2015.0          9.0         11.0         26.0          23.0  \n",
       "72345           NaN         10.0          NaN         27.0           NaN  \n",
       "89523        2015.0         10.0         10.0         17.0          23.0  \n",
       "119248       2015.0          9.0          9.0         16.0          22.0  \n",
       "\n",
       "[7 rows x 30 columns]"
      ]
     },
     "execution_count": 33,
     "metadata": {},
     "output_type": "execute_result"
    }
   ],
   "source": [
    "cleaned_data[cleaned_data[\"CMPLNT_FR_YR\"]<1900]"
   ]
  },
  {
   "cell_type": "code",
   "execution_count": 35,
   "metadata": {
    "collapsed": false
   },
   "outputs": [
    {
     "data": {
      "text/html": [
       "<div>\n",
       "<table border=\"1\" class=\"dataframe\">\n",
       "  <thead>\n",
       "    <tr style=\"text-align: right;\">\n",
       "      <th></th>\n",
       "      <th>CMPLNT_NUM</th>\n",
       "      <th>CMPLNT_FR_DT</th>\n",
       "      <th>CMPLNT_FR_TM</th>\n",
       "      <th>CMPLNT_TO_DT</th>\n",
       "      <th>CMPLNT_TO_TM</th>\n",
       "      <th>RPT_DT</th>\n",
       "      <th>KY_CD</th>\n",
       "      <th>OFNS_DESC</th>\n",
       "      <th>PD_CD</th>\n",
       "      <th>PD_DESC</th>\n",
       "      <th>...</th>\n",
       "      <th>Y_COORD_CD</th>\n",
       "      <th>Latitude</th>\n",
       "      <th>Longitude</th>\n",
       "      <th>Lat_Lon</th>\n",
       "      <th>CMPLNT_FR_YR</th>\n",
       "      <th>CMPLNT_TO_YR</th>\n",
       "      <th>CMPLNT_FR_MO</th>\n",
       "      <th>CMPLNT_TO_MO</th>\n",
       "      <th>CMPLNT_FR_DY</th>\n",
       "      <th>CMPLNT_TO_DY</th>\n",
       "    </tr>\n",
       "  </thead>\n",
       "  <tbody>\n",
       "    <tr>\n",
       "      <th>3363286</th>\n",
       "      <td>624021373</td>\n",
       "      <td>04/06/2009</td>\n",
       "      <td>12:54:00</td>\n",
       "      <td>04/06/2090</td>\n",
       "      <td>NaN</td>\n",
       "      <td>04/06/2009</td>\n",
       "      <td>341</td>\n",
       "      <td>PETIT LARCENY</td>\n",
       "      <td>333.0</td>\n",
       "      <td>LARCENY,PETIT FROM STORE-SHOPL</td>\n",
       "      <td>...</td>\n",
       "      <td>166203.0</td>\n",
       "      <td>40.622873</td>\n",
       "      <td>-74.004767</td>\n",
       "      <td>(40.622873428, -74.004767265)</td>\n",
       "      <td>2009.0</td>\n",
       "      <td>2090.0</td>\n",
       "      <td>4.0</td>\n",
       "      <td>4.0</td>\n",
       "      <td>6.0</td>\n",
       "      <td>6.0</td>\n",
       "    </tr>\n",
       "  </tbody>\n",
       "</table>\n",
       "<p>1 rows × 30 columns</p>\n",
       "</div>"
      ],
      "text/plain": [
       "         CMPLNT_NUM CMPLNT_FR_DT CMPLNT_FR_TM CMPLNT_TO_DT CMPLNT_TO_TM  \\\n",
       "3363286   624021373   04/06/2009     12:54:00   04/06/2090          NaN   \n",
       "\n",
       "             RPT_DT  KY_CD      OFNS_DESC  PD_CD  \\\n",
       "3363286  04/06/2009    341  PETIT LARCENY  333.0   \n",
       "\n",
       "                                PD_DESC      ...      Y_COORD_CD   Latitude  \\\n",
       "3363286  LARCENY,PETIT FROM STORE-SHOPL      ...        166203.0  40.622873   \n",
       "\n",
       "         Longitude                        Lat_Lon  CMPLNT_FR_YR CMPLNT_TO_YR  \\\n",
       "3363286 -74.004767  (40.622873428, -74.004767265)        2009.0       2090.0   \n",
       "\n",
       "        CMPLNT_FR_MO CMPLNT_TO_MO CMPLNT_FR_DY  CMPLNT_TO_DY  \n",
       "3363286          4.0          4.0          6.0           6.0  \n",
       "\n",
       "[1 rows x 30 columns]"
      ]
     },
     "execution_count": 35,
     "metadata": {},
     "output_type": "execute_result"
    }
   ],
   "source": [
    "cleaned_data[cleaned_data[\"CMPLNT_TO_YR\"]>2020]"
   ]
  },
  {
   "cell_type": "code",
   "execution_count": null,
   "metadata": {
    "collapsed": true
   },
   "outputs": [],
   "source": [
    "cleaned_data=data[(data[\"CMPLNT_FR_YR\"]>1900) & (data[\"CMPLNT_TO_YR\"]<2020)"
   ]
  },
  {
   "cell_type": "code",
   "execution_count": 48,
   "metadata": {
    "collapsed": true
   },
   "outputs": [],
   "source": [
    "cleaned_data[\"CMPLNT_FR_DT\"]=pd.to_datetime(cleaned_data[\"CMPLNT_FR_DT\"],errors=\"coerce\",format=\"%m/%d/%Y\")\n",
    "cleaned_data[\"CMPLNT_TO_DT\"]=pd.to_datetime(cleaned_data[\"CMPLNT_TO_DT\"],errors=\"coerce\",format=\"%m/%d/%Y\")"
   ]
  },
  {
   "cell_type": "code",
   "execution_count": 49,
   "metadata": {
    "collapsed": false
   },
   "outputs": [
    {
     "data": {
      "text/plain": [
       "662"
      ]
     },
     "execution_count": 49,
     "metadata": {},
     "output_type": "execute_result"
    }
   ],
   "source": [
    "sum(cleaned_data.CMPLNT_FR_DT.isnull())"
   ]
  },
  {
   "cell_type": "code",
   "execution_count": 50,
   "metadata": {
    "collapsed": false
   },
   "outputs": [
    {
     "data": {
      "text/plain": [
       "1391478"
      ]
     },
     "execution_count": 50,
     "metadata": {},
     "output_type": "execute_result"
    }
   ],
   "source": [
    "sum(cleaned_data.CMPLNT_TO_DT.isnull())"
   ]
  },
  {
   "cell_type": "code",
   "execution_count": 51,
   "metadata": {
    "collapsed": false
   },
   "outputs": [
    {
     "data": {
      "text/plain": [
       "5101231"
      ]
     },
     "execution_count": 51,
     "metadata": {},
     "output_type": "execute_result"
    }
   ],
   "source": [
    "len(cleaned_data)"
   ]
  },
  {
   "cell_type": "code",
   "execution_count": 46,
   "metadata": {
    "collapsed": false
   },
   "outputs": [],
   "source": [
    "cleaned_data.CMPLNT_FR_DT=pd.to_datetime(cleaned_data.CMPLNT_FR_DT,errors=\"coerce\",format=\"%m/%d/%Y\")"
   ]
  },
  {
   "cell_type": "code",
   "execution_count": 47,
   "metadata": {
    "collapsed": false
   },
   "outputs": [
    {
     "data": {
      "text/plain": [
       "CMPLNT_NUM                    int64\n",
       "CMPLNT_FR_DT         datetime64[ns]\n",
       "CMPLNT_FR_TM                 object\n",
       "CMPLNT_TO_DT         datetime64[ns]\n",
       "CMPLNT_TO_TM                 object\n",
       "RPT_DT               datetime64[ns]\n",
       "KY_CD                         int64\n",
       "OFNS_DESC                    object\n",
       "PD_CD                       float64\n",
       "PD_DESC                      object\n",
       "CRM_ATPT_CPTD_CD             object\n",
       "LAW_CAT_CD                   object\n",
       "JURIS_DESC                   object\n",
       "BORO_NM                      object\n",
       "ADDR_PCT_CD                 float64\n",
       "LOC_OF_OCCUR_DESC            object\n",
       "PREM_TYP_DESC                object\n",
       "PARKS_NM                     object\n",
       "HADEVELOPT                   object\n",
       "X_COORD_CD                  float64\n",
       "Y_COORD_CD                  float64\n",
       "Latitude                    float64\n",
       "Longitude                   float64\n",
       "Lat_Lon                      object\n",
       "dtype: object"
      ]
     },
     "execution_count": 47,
     "metadata": {},
     "output_type": "execute_result"
    }
   ],
   "source": [
    "cleaned_data.dtypes"
   ]
  },
  {
   "cell_type": "code",
   "execution_count": 40,
   "metadata": {
    "collapsed": false
   },
   "outputs": [
    {
     "data": {
      "text/plain": [
       "655"
      ]
     },
     "execution_count": 40,
     "metadata": {},
     "output_type": "execute_result"
    }
   ],
   "source": [
    "sum(data.CMPLNT_FR_DT.isnull())"
   ]
  },
  {
   "cell_type": "code",
   "execution_count": 8,
   "metadata": {
    "collapsed": false
   },
   "outputs": [
    {
     "name": "stderr",
     "output_type": "stream",
     "text": [
      "/Users/peimengsui/anaconda/lib/python3.5/site-packages/numpy/lib/function_base.py:3834: RuntimeWarning: Invalid value encountered in percentile\n",
      "  RuntimeWarning)\n"
     ]
    },
    {
     "data": {
      "text/html": [
       "<div>\n",
       "<table border=\"1\" class=\"dataframe\">\n",
       "  <thead>\n",
       "    <tr style=\"text-align: right;\">\n",
       "      <th></th>\n",
       "      <th>CMPLNT_NUM</th>\n",
       "      <th>KY_CD</th>\n",
       "      <th>PD_CD</th>\n",
       "      <th>ADDR_PCT_CD</th>\n",
       "      <th>X_COORD_CD</th>\n",
       "      <th>Y_COORD_CD</th>\n",
       "      <th>Latitude</th>\n",
       "      <th>Longitude</th>\n",
       "      <th>CMPLNT_FR_YR</th>\n",
       "      <th>CMPLNT_TO_YR</th>\n",
       "      <th>CMPLNT_FR_MO</th>\n",
       "      <th>CMPLNT_TO_MO</th>\n",
       "      <th>CMPLNT_FR_DY</th>\n",
       "      <th>CMPLNT_TO_DY</th>\n",
       "    </tr>\n",
       "  </thead>\n",
       "  <tbody>\n",
       "    <tr>\n",
       "      <th>count</th>\n",
       "      <td>5.101231e+06</td>\n",
       "      <td>5.101231e+06</td>\n",
       "      <td>5.096657e+06</td>\n",
       "      <td>5.100841e+06</td>\n",
       "      <td>4.913085e+06</td>\n",
       "      <td>4.913085e+06</td>\n",
       "      <td>4.913085e+06</td>\n",
       "      <td>4.913085e+06</td>\n",
       "      <td>5.100576e+06</td>\n",
       "      <td>3.709753e+06</td>\n",
       "      <td>5.100576e+06</td>\n",
       "      <td>3.709753e+06</td>\n",
       "      <td>5.100576e+06</td>\n",
       "      <td>3.709753e+06</td>\n",
       "    </tr>\n",
       "    <tr>\n",
       "      <th>mean</th>\n",
       "      <td>5.499733e+08</td>\n",
       "      <td>2.932191e+02</td>\n",
       "      <td>4.179772e+02</td>\n",
       "      <td>6.346322e+01</td>\n",
       "      <td>1.004610e+06</td>\n",
       "      <td>2.068627e+05</td>\n",
       "      <td>4.073443e+01</td>\n",
       "      <td>-7.392651e+01</td>\n",
       "      <td>2.010356e+03</td>\n",
       "      <td>2.010582e+03</td>\n",
       "      <td>6.546097e+00</td>\n",
       "      <td>6.587604e+00</td>\n",
       "      <td>1.553795e+01</td>\n",
       "      <td>1.570377e+01</td>\n",
       "    </tr>\n",
       "    <tr>\n",
       "      <th>std</th>\n",
       "      <td>2.597636e+08</td>\n",
       "      <td>1.480821e+02</td>\n",
       "      <td>2.179312e+02</td>\n",
       "      <td>3.444424e+01</td>\n",
       "      <td>2.144742e+04</td>\n",
       "      <td>3.047765e+04</td>\n",
       "      <td>8.365685e-02</td>\n",
       "      <td>7.734681e-02</td>\n",
       "      <td>3.157654e+00</td>\n",
       "      <td>2.885140e+00</td>\n",
       "      <td>3.381710e+00</td>\n",
       "      <td>3.379293e+00</td>\n",
       "      <td>8.834568e+00</td>\n",
       "      <td>8.799740e+00</td>\n",
       "    </tr>\n",
       "    <tr>\n",
       "      <th>min</th>\n",
       "      <td>1.000002e+08</td>\n",
       "      <td>1.010000e+02</td>\n",
       "      <td>1.010000e+02</td>\n",
       "      <td>1.000000e+00</td>\n",
       "      <td>9.133190e+05</td>\n",
       "      <td>1.208290e+05</td>\n",
       "      <td>4.049806e+01</td>\n",
       "      <td>-7.425508e+01</td>\n",
       "      <td>1.015000e+03</td>\n",
       "      <td>1.912000e+03</td>\n",
       "      <td>1.000000e+00</td>\n",
       "      <td>1.000000e+00</td>\n",
       "      <td>1.000000e+00</td>\n",
       "      <td>1.000000e+00</td>\n",
       "    </tr>\n",
       "    <tr>\n",
       "      <th>25%</th>\n",
       "      <td>3.250451e+08</td>\n",
       "      <td>1.170000e+02</td>\n",
       "      <td>NaN</td>\n",
       "      <td>NaN</td>\n",
       "      <td>NaN</td>\n",
       "      <td>NaN</td>\n",
       "      <td>NaN</td>\n",
       "      <td>NaN</td>\n",
       "      <td>NaN</td>\n",
       "      <td>NaN</td>\n",
       "      <td>NaN</td>\n",
       "      <td>NaN</td>\n",
       "      <td>NaN</td>\n",
       "      <td>NaN</td>\n",
       "    </tr>\n",
       "    <tr>\n",
       "      <th>50%</th>\n",
       "      <td>5.499458e+08</td>\n",
       "      <td>3.410000e+02</td>\n",
       "      <td>NaN</td>\n",
       "      <td>NaN</td>\n",
       "      <td>NaN</td>\n",
       "      <td>NaN</td>\n",
       "      <td>NaN</td>\n",
       "      <td>NaN</td>\n",
       "      <td>NaN</td>\n",
       "      <td>NaN</td>\n",
       "      <td>NaN</td>\n",
       "      <td>NaN</td>\n",
       "      <td>NaN</td>\n",
       "      <td>NaN</td>\n",
       "    </tr>\n",
       "    <tr>\n",
       "      <th>75%</th>\n",
       "      <td>7.748865e+08</td>\n",
       "      <td>3.510000e+02</td>\n",
       "      <td>NaN</td>\n",
       "      <td>NaN</td>\n",
       "      <td>NaN</td>\n",
       "      <td>NaN</td>\n",
       "      <td>NaN</td>\n",
       "      <td>NaN</td>\n",
       "      <td>NaN</td>\n",
       "      <td>NaN</td>\n",
       "      <td>NaN</td>\n",
       "      <td>NaN</td>\n",
       "      <td>NaN</td>\n",
       "      <td>NaN</td>\n",
       "    </tr>\n",
       "    <tr>\n",
       "      <th>max</th>\n",
       "      <td>9.999999e+08</td>\n",
       "      <td>8.810000e+02</td>\n",
       "      <td>9.750000e+02</td>\n",
       "      <td>1.230000e+02</td>\n",
       "      <td>1.067298e+06</td>\n",
       "      <td>2.718200e+05</td>\n",
       "      <td>4.091272e+01</td>\n",
       "      <td>-7.370032e+01</td>\n",
       "      <td>2.015000e+03</td>\n",
       "      <td>2.090000e+03</td>\n",
       "      <td>1.200000e+01</td>\n",
       "      <td>1.200000e+01</td>\n",
       "      <td>3.100000e+01</td>\n",
       "      <td>3.100000e+01</td>\n",
       "    </tr>\n",
       "  </tbody>\n",
       "</table>\n",
       "</div>"
      ],
      "text/plain": [
       "         CMPLNT_NUM         KY_CD         PD_CD   ADDR_PCT_CD    X_COORD_CD  \\\n",
       "count  5.101231e+06  5.101231e+06  5.096657e+06  5.100841e+06  4.913085e+06   \n",
       "mean   5.499733e+08  2.932191e+02  4.179772e+02  6.346322e+01  1.004610e+06   \n",
       "std    2.597636e+08  1.480821e+02  2.179312e+02  3.444424e+01  2.144742e+04   \n",
       "min    1.000002e+08  1.010000e+02  1.010000e+02  1.000000e+00  9.133190e+05   \n",
       "25%    3.250451e+08  1.170000e+02           NaN           NaN           NaN   \n",
       "50%    5.499458e+08  3.410000e+02           NaN           NaN           NaN   \n",
       "75%    7.748865e+08  3.510000e+02           NaN           NaN           NaN   \n",
       "max    9.999999e+08  8.810000e+02  9.750000e+02  1.230000e+02  1.067298e+06   \n",
       "\n",
       "         Y_COORD_CD      Latitude     Longitude  CMPLNT_FR_YR  CMPLNT_TO_YR  \\\n",
       "count  4.913085e+06  4.913085e+06  4.913085e+06  5.100576e+06  3.709753e+06   \n",
       "mean   2.068627e+05  4.073443e+01 -7.392651e+01  2.010356e+03  2.010582e+03   \n",
       "std    3.047765e+04  8.365685e-02  7.734681e-02  3.157654e+00  2.885140e+00   \n",
       "min    1.208290e+05  4.049806e+01 -7.425508e+01  1.015000e+03  1.912000e+03   \n",
       "25%             NaN           NaN           NaN           NaN           NaN   \n",
       "50%             NaN           NaN           NaN           NaN           NaN   \n",
       "75%             NaN           NaN           NaN           NaN           NaN   \n",
       "max    2.718200e+05  4.091272e+01 -7.370032e+01  2.015000e+03  2.090000e+03   \n",
       "\n",
       "       CMPLNT_FR_MO  CMPLNT_TO_MO  CMPLNT_FR_DY  CMPLNT_TO_DY  \n",
       "count  5.100576e+06  3.709753e+06  5.100576e+06  3.709753e+06  \n",
       "mean   6.546097e+00  6.587604e+00  1.553795e+01  1.570377e+01  \n",
       "std    3.381710e+00  3.379293e+00  8.834568e+00  8.799740e+00  \n",
       "min    1.000000e+00  1.000000e+00  1.000000e+00  1.000000e+00  \n",
       "25%             NaN           NaN           NaN           NaN  \n",
       "50%             NaN           NaN           NaN           NaN  \n",
       "75%             NaN           NaN           NaN           NaN  \n",
       "max    1.200000e+01  1.200000e+01  3.100000e+01  3.100000e+01  "
      ]
     },
     "execution_count": 8,
     "metadata": {},
     "output_type": "execute_result"
    }
   ],
   "source": [
    "data.describe()"
   ]
  },
  {
   "cell_type": "markdown",
   "metadata": {},
   "source": [
    "### Found some CMPLNT_FR_YR be 1015,and CMPLNT_TO_YR be 2090 might be considered invalid, exclude where less than "
   ]
  },
  {
   "cell_type": "code",
   "execution_count": 9,
   "metadata": {
    "collapsed": false,
    "scrolled": true
   },
   "outputs": [
    {
     "data": {
      "text/html": [
       "<div>\n",
       "<table border=\"1\" class=\"dataframe\">\n",
       "  <thead>\n",
       "    <tr style=\"text-align: right;\">\n",
       "      <th></th>\n",
       "      <th>CMPLNT_NUM</th>\n",
       "      <th>CMPLNT_FR_DT</th>\n",
       "      <th>CMPLNT_FR_TM</th>\n",
       "      <th>CMPLNT_TO_DT</th>\n",
       "      <th>CMPLNT_TO_TM</th>\n",
       "      <th>RPT_DT</th>\n",
       "      <th>KY_CD</th>\n",
       "      <th>OFNS_DESC</th>\n",
       "      <th>PD_CD</th>\n",
       "      <th>PD_DESC</th>\n",
       "      <th>...</th>\n",
       "      <th>Y_COORD_CD</th>\n",
       "      <th>Latitude</th>\n",
       "      <th>Longitude</th>\n",
       "      <th>Lat_Lon</th>\n",
       "      <th>CMPLNT_FR_YR</th>\n",
       "      <th>CMPLNT_TO_YR</th>\n",
       "      <th>CMPLNT_FR_MO</th>\n",
       "      <th>CMPLNT_TO_MO</th>\n",
       "      <th>CMPLNT_FR_DY</th>\n",
       "      <th>CMPLNT_TO_DY</th>\n",
       "    </tr>\n",
       "  </thead>\n",
       "  <tbody>\n",
       "    <tr>\n",
       "      <th>3363286</th>\n",
       "      <td>624021373</td>\n",
       "      <td>04/06/2009</td>\n",
       "      <td>12:54:00</td>\n",
       "      <td>04/06/2090</td>\n",
       "      <td>NaN</td>\n",
       "      <td>04/06/2009</td>\n",
       "      <td>341</td>\n",
       "      <td>PETIT LARCENY</td>\n",
       "      <td>333.0</td>\n",
       "      <td>LARCENY,PETIT FROM STORE-SHOPL</td>\n",
       "      <td>...</td>\n",
       "      <td>166203.0</td>\n",
       "      <td>40.622873</td>\n",
       "      <td>-74.004767</td>\n",
       "      <td>(40.622873428, -74.004767265)</td>\n",
       "      <td>2009.0</td>\n",
       "      <td>2090.0</td>\n",
       "      <td>4.0</td>\n",
       "      <td>4.0</td>\n",
       "      <td>6.0</td>\n",
       "      <td>6.0</td>\n",
       "    </tr>\n",
       "  </tbody>\n",
       "</table>\n",
       "<p>1 rows × 30 columns</p>\n",
       "</div>"
      ],
      "text/plain": [
       "         CMPLNT_NUM CMPLNT_FR_DT CMPLNT_FR_TM CMPLNT_TO_DT CMPLNT_TO_TM  \\\n",
       "3363286   624021373   04/06/2009     12:54:00   04/06/2090          NaN   \n",
       "\n",
       "             RPT_DT  KY_CD      OFNS_DESC  PD_CD  \\\n",
       "3363286  04/06/2009    341  PETIT LARCENY  333.0   \n",
       "\n",
       "                                PD_DESC      ...      Y_COORD_CD   Latitude  \\\n",
       "3363286  LARCENY,PETIT FROM STORE-SHOPL      ...        166203.0  40.622873   \n",
       "\n",
       "         Longitude                        Lat_Lon  CMPLNT_FR_YR CMPLNT_TO_YR  \\\n",
       "3363286 -74.004767  (40.622873428, -74.004767265)        2009.0       2090.0   \n",
       "\n",
       "        CMPLNT_FR_MO CMPLNT_TO_MO CMPLNT_FR_DY  CMPLNT_TO_DY  \n",
       "3363286          4.0          4.0          6.0           6.0  \n",
       "\n",
       "[1 rows x 30 columns]"
      ]
     },
     "execution_count": 9,
     "metadata": {},
     "output_type": "execute_result"
    }
   ],
   "source": [
    "data[data[\"CMPLNT_TO_YR\"]>2020]"
   ]
  },
  {
   "cell_type": "code",
   "execution_count": 10,
   "metadata": {
    "collapsed": false,
    "scrolled": false
   },
   "outputs": [],
   "source": [
    "cleaned_data=data[(data[\"CMPLNT_FR_YR\"]>1900) & (data[\"CMPLNT_TO_YR\"]<2020)]"
   ]
  },
  {
   "cell_type": "code",
   "execution_count": null,
   "metadata": {
    "collapsed": true
   },
   "outputs": [],
   "source": [
    "sum(cleaned_data.CMPLNT_FR_DT.isnull())"
   ]
  },
  {
   "cell_type": "markdown",
   "metadata": {},
   "source": [
    "## Convert to datetime"
   ]
  },
  {
   "cell_type": "code",
   "execution_count": 11,
   "metadata": {
    "collapsed": false,
    "scrolled": true
   },
   "outputs": [
    {
     "name": "stderr",
     "output_type": "stream",
     "text": [
      "/Users/peimengsui/anaconda/lib/python3.5/site-packages/ipykernel/__main__.py:1: SettingWithCopyWarning: \n",
      "A value is trying to be set on a copy of a slice from a DataFrame.\n",
      "Try using .loc[row_indexer,col_indexer] = value instead\n",
      "\n",
      "See the caveats in the documentation: http://pandas.pydata.org/pandas-docs/stable/indexing.html#indexing-view-versus-copy\n",
      "  if __name__ == '__main__':\n",
      "/Users/peimengsui/anaconda/lib/python3.5/site-packages/ipykernel/__main__.py:2: SettingWithCopyWarning: \n",
      "A value is trying to be set on a copy of a slice from a DataFrame.\n",
      "Try using .loc[row_indexer,col_indexer] = value instead\n",
      "\n",
      "See the caveats in the documentation: http://pandas.pydata.org/pandas-docs/stable/indexing.html#indexing-view-versus-copy\n",
      "  from ipykernel import kernelapp as app\n"
     ]
    }
   ],
   "source": [
    "cleaned_data[\"begin_datetime\"]=cleaned_data.CMPLNT_FR_DT+\" \"+cleaned_data.CMPLNT_FR_TM\n",
    "cleaned_data[\"end_datetime\"]=cleaned_data.CMPLNT_TO_DT+\" \"+cleaned_data.CMPLNT_TO_TM"
   ]
  },
  {
   "cell_type": "code",
   "execution_count": 90,
   "metadata": {
    "collapsed": false
   },
   "outputs": [
    {
     "name": "stderr",
     "output_type": "stream",
     "text": [
      "/Users/peimengsui/anaconda/lib/python3.5/site-packages/ipykernel/__main__.py:1: SettingWithCopyWarning: \n",
      "A value is trying to be set on a copy of a slice from a DataFrame.\n",
      "Try using .loc[row_indexer,col_indexer] = value instead\n",
      "\n",
      "See the caveats in the documentation: http://pandas.pydata.org/pandas-docs/stable/indexing.html#indexing-view-versus-copy\n",
      "  if __name__ == '__main__':\n",
      "/Users/peimengsui/anaconda/lib/python3.5/site-packages/ipykernel/__main__.py:2: SettingWithCopyWarning: \n",
      "A value is trying to be set on a copy of a slice from a DataFrame.\n",
      "Try using .loc[row_indexer,col_indexer] = value instead\n",
      "\n",
      "See the caveats in the documentation: http://pandas.pydata.org/pandas-docs/stable/indexing.html#indexing-view-versus-copy\n",
      "  from ipykernel import kernelapp as app\n"
     ]
    }
   ],
   "source": [
    "cleaned_data[\"begin_datetime\"]=pd.to_datetime(cleaned_data.begin_datetime,errors=\"ignore\")\n",
    "cleaned_data[\"end_datetime\"] = pd.to_datetime(cleaned_data.end_datetime,errors=\"ignore\")"
   ]
  },
  {
   "cell_type": "code",
   "execution_count": 91,
   "metadata": {
    "collapsed": false
   },
   "outputs": [
    {
     "data": {
      "text/html": [
       "<div>\n",
       "<table border=\"1\" class=\"dataframe\">\n",
       "  <thead>\n",
       "    <tr style=\"text-align: right;\">\n",
       "      <th></th>\n",
       "      <th>CMPLNT_NUM</th>\n",
       "      <th>CMPLNT_FR_DT</th>\n",
       "      <th>CMPLNT_FR_TM</th>\n",
       "      <th>CMPLNT_TO_DT</th>\n",
       "      <th>CMPLNT_TO_TM</th>\n",
       "      <th>RPT_DT</th>\n",
       "      <th>KY_CD</th>\n",
       "      <th>OFNS_DESC</th>\n",
       "      <th>PD_CD</th>\n",
       "      <th>PD_DESC</th>\n",
       "      <th>...</th>\n",
       "      <th>Longitude</th>\n",
       "      <th>Lat_Lon</th>\n",
       "      <th>CMPLNT_FR_YR</th>\n",
       "      <th>CMPLNT_TO_YR</th>\n",
       "      <th>CMPLNT_FR_MO</th>\n",
       "      <th>CMPLNT_TO_MO</th>\n",
       "      <th>CMPLNT_FR_DY</th>\n",
       "      <th>CMPLNT_TO_DY</th>\n",
       "      <th>begin_datetime</th>\n",
       "      <th>end_datetime</th>\n",
       "    </tr>\n",
       "  </thead>\n",
       "  <tbody>\n",
       "    <tr>\n",
       "      <th>4</th>\n",
       "      <td>641637920</td>\n",
       "      <td>12/31/2015</td>\n",
       "      <td>23:25:00</td>\n",
       "      <td>12/31/2015</td>\n",
       "      <td>23:30:00</td>\n",
       "      <td>12/31/2015</td>\n",
       "      <td>344</td>\n",
       "      <td>ASSAULT 3 &amp; RELATED OFFENSES</td>\n",
       "      <td>101.0</td>\n",
       "      <td>ASSAULT 3</td>\n",
       "      <td>...</td>\n",
       "      <td>-73.987891</td>\n",
       "      <td>(40.7380024, -73.98789129)</td>\n",
       "      <td>2015.0</td>\n",
       "      <td>2015.0</td>\n",
       "      <td>12.0</td>\n",
       "      <td>12.0</td>\n",
       "      <td>31.0</td>\n",
       "      <td>31.0</td>\n",
       "      <td>12/31/2015 23:25:00</td>\n",
       "      <td>12/31/2015 23:30:00</td>\n",
       "    </tr>\n",
       "    <tr>\n",
       "      <th>5</th>\n",
       "      <td>365661343</td>\n",
       "      <td>12/31/2015</td>\n",
       "      <td>23:18:00</td>\n",
       "      <td>12/31/2015</td>\n",
       "      <td>23:25:00</td>\n",
       "      <td>12/31/2015</td>\n",
       "      <td>106</td>\n",
       "      <td>FELONY ASSAULT</td>\n",
       "      <td>109.0</td>\n",
       "      <td>ASSAULT 2,1,UNCLASSIFIED</td>\n",
       "      <td>...</td>\n",
       "      <td>-73.957111</td>\n",
       "      <td>(40.665022689, -73.957110763)</td>\n",
       "      <td>2015.0</td>\n",
       "      <td>2015.0</td>\n",
       "      <td>12.0</td>\n",
       "      <td>12.0</td>\n",
       "      <td>31.0</td>\n",
       "      <td>31.0</td>\n",
       "      <td>12/31/2015 23:18:00</td>\n",
       "      <td>12/31/2015 23:25:00</td>\n",
       "    </tr>\n",
       "    <tr>\n",
       "      <th>7</th>\n",
       "      <td>265023856</td>\n",
       "      <td>12/31/2015</td>\n",
       "      <td>23:15:00</td>\n",
       "      <td>12/31/2015</td>\n",
       "      <td>23:15:00</td>\n",
       "      <td>12/31/2015</td>\n",
       "      <td>118</td>\n",
       "      <td>DANGEROUS WEAPONS</td>\n",
       "      <td>792.0</td>\n",
       "      <td>WEAPONS POSSESSION 1 &amp; 2</td>\n",
       "      <td>...</td>\n",
       "      <td>-73.910398</td>\n",
       "      <td>(40.845707148, -73.910398033)</td>\n",
       "      <td>2015.0</td>\n",
       "      <td>2015.0</td>\n",
       "      <td>12.0</td>\n",
       "      <td>12.0</td>\n",
       "      <td>31.0</td>\n",
       "      <td>31.0</td>\n",
       "      <td>12/31/2015 23:15:00</td>\n",
       "      <td>12/31/2015 23:15:00</td>\n",
       "    </tr>\n",
       "    <tr>\n",
       "      <th>8</th>\n",
       "      <td>989238731</td>\n",
       "      <td>12/31/2015</td>\n",
       "      <td>23:15:00</td>\n",
       "      <td>12/31/2015</td>\n",
       "      <td>23:30:00</td>\n",
       "      <td>12/31/2015</td>\n",
       "      <td>344</td>\n",
       "      <td>ASSAULT 3 &amp; RELATED OFFENSES</td>\n",
       "      <td>101.0</td>\n",
       "      <td>ASSAULT 3</td>\n",
       "      <td>...</td>\n",
       "      <td>-73.891900</td>\n",
       "      <td>(40.856711291, -73.891899956)</td>\n",
       "      <td>2015.0</td>\n",
       "      <td>2015.0</td>\n",
       "      <td>12.0</td>\n",
       "      <td>12.0</td>\n",
       "      <td>31.0</td>\n",
       "      <td>31.0</td>\n",
       "      <td>12/31/2015 23:15:00</td>\n",
       "      <td>12/31/2015 23:30:00</td>\n",
       "    </tr>\n",
       "    <tr>\n",
       "      <th>9</th>\n",
       "      <td>415095955</td>\n",
       "      <td>12/31/2015</td>\n",
       "      <td>23:10:00</td>\n",
       "      <td>12/31/2015</td>\n",
       "      <td>23:10:00</td>\n",
       "      <td>12/31/2015</td>\n",
       "      <td>341</td>\n",
       "      <td>PETIT LARCENY</td>\n",
       "      <td>338.0</td>\n",
       "      <td>LARCENY,PETIT FROM BUILDING,UN</td>\n",
       "      <td>...</td>\n",
       "      <td>-73.963623</td>\n",
       "      <td>(40.765617688, -73.96362342)</td>\n",
       "      <td>2015.0</td>\n",
       "      <td>2015.0</td>\n",
       "      <td>12.0</td>\n",
       "      <td>12.0</td>\n",
       "      <td>31.0</td>\n",
       "      <td>31.0</td>\n",
       "      <td>12/31/2015 23:10:00</td>\n",
       "      <td>12/31/2015 23:10:00</td>\n",
       "    </tr>\n",
       "  </tbody>\n",
       "</table>\n",
       "<p>5 rows × 32 columns</p>\n",
       "</div>"
      ],
      "text/plain": [
       "   CMPLNT_NUM CMPLNT_FR_DT CMPLNT_FR_TM CMPLNT_TO_DT CMPLNT_TO_TM      RPT_DT  \\\n",
       "4   641637920   12/31/2015     23:25:00   12/31/2015     23:30:00  12/31/2015   \n",
       "5   365661343   12/31/2015     23:18:00   12/31/2015     23:25:00  12/31/2015   \n",
       "7   265023856   12/31/2015     23:15:00   12/31/2015     23:15:00  12/31/2015   \n",
       "8   989238731   12/31/2015     23:15:00   12/31/2015     23:30:00  12/31/2015   \n",
       "9   415095955   12/31/2015     23:10:00   12/31/2015     23:10:00  12/31/2015   \n",
       "\n",
       "   KY_CD                     OFNS_DESC  PD_CD                         PD_DESC  \\\n",
       "4    344  ASSAULT 3 & RELATED OFFENSES  101.0                       ASSAULT 3   \n",
       "5    106                FELONY ASSAULT  109.0        ASSAULT 2,1,UNCLASSIFIED   \n",
       "7    118             DANGEROUS WEAPONS  792.0        WEAPONS POSSESSION 1 & 2   \n",
       "8    344  ASSAULT 3 & RELATED OFFENSES  101.0                       ASSAULT 3   \n",
       "9    341                 PETIT LARCENY  338.0  LARCENY,PETIT FROM BUILDING,UN   \n",
       "\n",
       "          ...           Longitude                        Lat_Lon CMPLNT_FR_YR  \\\n",
       "4         ...          -73.987891     (40.7380024, -73.98789129)       2015.0   \n",
       "5         ...          -73.957111  (40.665022689, -73.957110763)       2015.0   \n",
       "7         ...          -73.910398  (40.845707148, -73.910398033)       2015.0   \n",
       "8         ...          -73.891900  (40.856711291, -73.891899956)       2015.0   \n",
       "9         ...          -73.963623   (40.765617688, -73.96362342)       2015.0   \n",
       "\n",
       "  CMPLNT_TO_YR  CMPLNT_FR_MO CMPLNT_TO_MO CMPLNT_FR_DY CMPLNT_TO_DY  \\\n",
       "4       2015.0          12.0         12.0         31.0         31.0   \n",
       "5       2015.0          12.0         12.0         31.0         31.0   \n",
       "7       2015.0          12.0         12.0         31.0         31.0   \n",
       "8       2015.0          12.0         12.0         31.0         31.0   \n",
       "9       2015.0          12.0         12.0         31.0         31.0   \n",
       "\n",
       "        begin_datetime         end_datetime  \n",
       "4  12/31/2015 23:25:00  12/31/2015 23:30:00  \n",
       "5  12/31/2015 23:18:00  12/31/2015 23:25:00  \n",
       "7  12/31/2015 23:15:00  12/31/2015 23:15:00  \n",
       "8  12/31/2015 23:15:00  12/31/2015 23:30:00  \n",
       "9  12/31/2015 23:10:00  12/31/2015 23:10:00  \n",
       "\n",
       "[5 rows x 32 columns]"
      ]
     },
     "execution_count": 91,
     "metadata": {},
     "output_type": "execute_result"
    }
   ],
   "source": [
    "cleaned_data.head()"
   ]
  },
  {
   "cell_type": "code",
   "execution_count": 36,
   "metadata": {
    "collapsed": false
   },
   "outputs": [
    {
     "ename": "TypeError",
     "evalue": "unsupported operand type(s) for -: 'str' and 'str'",
     "output_type": "error",
     "traceback": [
      "\u001b[0;31m---------------------------------------------------------------------------\u001b[0m",
      "\u001b[0;31mTypeError\u001b[0m                                 Traceback (most recent call last)",
      "\u001b[0;32m/Users/peimengsui/anaconda/lib/python3.5/site-packages/pandas/core/ops.py\u001b[0m in \u001b[0;36mna_op\u001b[0;34m(x, y)\u001b[0m\n\u001b[1;32m    581\u001b[0m             result = expressions.evaluate(op, str_rep, x, y,\n\u001b[0;32m--> 582\u001b[0;31m                                           raise_on_error=True, **eval_kwargs)\n\u001b[0m\u001b[1;32m    583\u001b[0m         \u001b[0;32mexcept\u001b[0m \u001b[0mTypeError\u001b[0m\u001b[0;34m:\u001b[0m\u001b[0;34m\u001b[0m\u001b[0m\n",
      "\u001b[0;32m/Users/peimengsui/anaconda/lib/python3.5/site-packages/pandas/computation/expressions.py\u001b[0m in \u001b[0;36mevaluate\u001b[0;34m(op, op_str, a, b, raise_on_error, use_numexpr, **eval_kwargs)\u001b[0m\n\u001b[1;32m    208\u001b[0m         return _evaluate(op, op_str, a, b, raise_on_error=raise_on_error,\n\u001b[0;32m--> 209\u001b[0;31m                          **eval_kwargs)\n\u001b[0m\u001b[1;32m    210\u001b[0m     \u001b[0;32mreturn\u001b[0m \u001b[0m_evaluate_standard\u001b[0m\u001b[0;34m(\u001b[0m\u001b[0mop\u001b[0m\u001b[0;34m,\u001b[0m \u001b[0mop_str\u001b[0m\u001b[0;34m,\u001b[0m \u001b[0ma\u001b[0m\u001b[0;34m,\u001b[0m \u001b[0mb\u001b[0m\u001b[0;34m,\u001b[0m \u001b[0mraise_on_error\u001b[0m\u001b[0;34m=\u001b[0m\u001b[0mraise_on_error\u001b[0m\u001b[0;34m)\u001b[0m\u001b[0;34m\u001b[0m\u001b[0m\n",
      "\u001b[0;32m/Users/peimengsui/anaconda/lib/python3.5/site-packages/pandas/computation/expressions.py\u001b[0m in \u001b[0;36m_evaluate_numexpr\u001b[0;34m(op, op_str, a, b, raise_on_error, truediv, reversed, **eval_kwargs)\u001b[0m\n\u001b[1;32m    119\u001b[0m     \u001b[0;32mif\u001b[0m \u001b[0mresult\u001b[0m \u001b[0;32mis\u001b[0m \u001b[0;32mNone\u001b[0m\u001b[0;34m:\u001b[0m\u001b[0;34m\u001b[0m\u001b[0m\n\u001b[0;32m--> 120\u001b[0;31m         \u001b[0mresult\u001b[0m \u001b[0;34m=\u001b[0m \u001b[0m_evaluate_standard\u001b[0m\u001b[0;34m(\u001b[0m\u001b[0mop\u001b[0m\u001b[0;34m,\u001b[0m \u001b[0mop_str\u001b[0m\u001b[0;34m,\u001b[0m \u001b[0ma\u001b[0m\u001b[0;34m,\u001b[0m \u001b[0mb\u001b[0m\u001b[0;34m,\u001b[0m \u001b[0mraise_on_error\u001b[0m\u001b[0;34m)\u001b[0m\u001b[0;34m\u001b[0m\u001b[0m\n\u001b[0m\u001b[1;32m    121\u001b[0m \u001b[0;34m\u001b[0m\u001b[0m\n",
      "\u001b[0;32m/Users/peimengsui/anaconda/lib/python3.5/site-packages/pandas/computation/expressions.py\u001b[0m in \u001b[0;36m_evaluate_standard\u001b[0;34m(op, op_str, a, b, raise_on_error, **eval_kwargs)\u001b[0m\n\u001b[1;32m     61\u001b[0m         \u001b[0m_store_test_result\u001b[0m\u001b[0;34m(\u001b[0m\u001b[0;32mFalse\u001b[0m\u001b[0;34m)\u001b[0m\u001b[0;34m\u001b[0m\u001b[0m\n\u001b[0;32m---> 62\u001b[0;31m     \u001b[0;32mreturn\u001b[0m \u001b[0mop\u001b[0m\u001b[0;34m(\u001b[0m\u001b[0ma\u001b[0m\u001b[0;34m,\u001b[0m \u001b[0mb\u001b[0m\u001b[0;34m)\u001b[0m\u001b[0;34m\u001b[0m\u001b[0m\n\u001b[0m\u001b[1;32m     63\u001b[0m \u001b[0;34m\u001b[0m\u001b[0m\n",
      "\u001b[0;31mTypeError\u001b[0m: unsupported operand type(s) for -: 'str' and 'str'",
      "\nDuring handling of the above exception, another exception occurred:\n",
      "\u001b[0;31mTypeError\u001b[0m                                 Traceback (most recent call last)",
      "\u001b[0;32m<ipython-input-36-4e9717593333>\u001b[0m in \u001b[0;36m<module>\u001b[0;34m()\u001b[0m\n\u001b[0;32m----> 1\u001b[0;31m \u001b[0mcleaned_data\u001b[0m\u001b[0;34m[\u001b[0m\u001b[0;34m\"duration\"\u001b[0m\u001b[0;34m]\u001b[0m\u001b[0;34m=\u001b[0m\u001b[0mcleaned_data\u001b[0m\u001b[0;34m.\u001b[0m\u001b[0mend_datetime\u001b[0m\u001b[0;34m-\u001b[0m\u001b[0mcleaned_data\u001b[0m\u001b[0;34m.\u001b[0m\u001b[0mbegin_datetime\u001b[0m\u001b[0;34m\u001b[0m\u001b[0m\n\u001b[0m",
      "\u001b[0;32m/Users/peimengsui/anaconda/lib/python3.5/site-packages/pandas/core/ops.py\u001b[0m in \u001b[0;36mwrapper\u001b[0;34m(left, right, name, na_op)\u001b[0m\n\u001b[1;32m    639\u001b[0m                     \u001b[0mrvalues\u001b[0m \u001b[0;34m=\u001b[0m \u001b[0malgos\u001b[0m\u001b[0;34m.\u001b[0m\u001b[0mtake_1d\u001b[0m\u001b[0;34m(\u001b[0m\u001b[0mrvalues\u001b[0m\u001b[0;34m,\u001b[0m \u001b[0mridx\u001b[0m\u001b[0;34m)\u001b[0m\u001b[0;34m\u001b[0m\u001b[0m\n\u001b[1;32m    640\u001b[0m \u001b[0;34m\u001b[0m\u001b[0m\n\u001b[0;32m--> 641\u001b[0;31m             \u001b[0marr\u001b[0m \u001b[0;34m=\u001b[0m \u001b[0mna_op\u001b[0m\u001b[0;34m(\u001b[0m\u001b[0mlvalues\u001b[0m\u001b[0;34m,\u001b[0m \u001b[0mrvalues\u001b[0m\u001b[0;34m)\u001b[0m\u001b[0;34m\u001b[0m\u001b[0m\n\u001b[0m\u001b[1;32m    642\u001b[0m \u001b[0;34m\u001b[0m\u001b[0m\n\u001b[1;32m    643\u001b[0m             return left._constructor(wrap_results(arr), index=index,\n",
      "\u001b[0;32m/Users/peimengsui/anaconda/lib/python3.5/site-packages/pandas/core/ops.py\u001b[0m in \u001b[0;36mna_op\u001b[0;34m(x, y)\u001b[0m\n\u001b[1;32m    586\u001b[0m                 \u001b[0mresult\u001b[0m \u001b[0;34m=\u001b[0m \u001b[0mnp\u001b[0m\u001b[0;34m.\u001b[0m\u001b[0mempty\u001b[0m\u001b[0;34m(\u001b[0m\u001b[0mx\u001b[0m\u001b[0;34m.\u001b[0m\u001b[0msize\u001b[0m\u001b[0;34m,\u001b[0m \u001b[0mdtype\u001b[0m\u001b[0;34m=\u001b[0m\u001b[0mdtype\u001b[0m\u001b[0;34m)\u001b[0m\u001b[0;34m\u001b[0m\u001b[0m\n\u001b[1;32m    587\u001b[0m                 \u001b[0mmask\u001b[0m \u001b[0;34m=\u001b[0m \u001b[0mnotnull\u001b[0m\u001b[0;34m(\u001b[0m\u001b[0mx\u001b[0m\u001b[0;34m)\u001b[0m \u001b[0;34m&\u001b[0m \u001b[0mnotnull\u001b[0m\u001b[0;34m(\u001b[0m\u001b[0my\u001b[0m\u001b[0;34m)\u001b[0m\u001b[0;34m\u001b[0m\u001b[0m\n\u001b[0;32m--> 588\u001b[0;31m                 \u001b[0mresult\u001b[0m\u001b[0;34m[\u001b[0m\u001b[0mmask\u001b[0m\u001b[0;34m]\u001b[0m \u001b[0;34m=\u001b[0m \u001b[0mop\u001b[0m\u001b[0;34m(\u001b[0m\u001b[0mx\u001b[0m\u001b[0;34m[\u001b[0m\u001b[0mmask\u001b[0m\u001b[0;34m]\u001b[0m\u001b[0;34m,\u001b[0m \u001b[0m_values_from_object\u001b[0m\u001b[0;34m(\u001b[0m\u001b[0my\u001b[0m\u001b[0;34m[\u001b[0m\u001b[0mmask\u001b[0m\u001b[0;34m]\u001b[0m\u001b[0;34m)\u001b[0m\u001b[0;34m)\u001b[0m\u001b[0;34m\u001b[0m\u001b[0m\n\u001b[0m\u001b[1;32m    589\u001b[0m             \u001b[0;32melif\u001b[0m \u001b[0misinstance\u001b[0m\u001b[0;34m(\u001b[0m\u001b[0mx\u001b[0m\u001b[0;34m,\u001b[0m \u001b[0mnp\u001b[0m\u001b[0;34m.\u001b[0m\u001b[0mndarray\u001b[0m\u001b[0;34m)\u001b[0m\u001b[0;34m:\u001b[0m\u001b[0;34m\u001b[0m\u001b[0m\n\u001b[1;32m    590\u001b[0m                 \u001b[0mresult\u001b[0m \u001b[0;34m=\u001b[0m \u001b[0mnp\u001b[0m\u001b[0;34m.\u001b[0m\u001b[0mempty\u001b[0m\u001b[0;34m(\u001b[0m\u001b[0mlen\u001b[0m\u001b[0;34m(\u001b[0m\u001b[0mx\u001b[0m\u001b[0;34m)\u001b[0m\u001b[0;34m,\u001b[0m \u001b[0mdtype\u001b[0m\u001b[0;34m=\u001b[0m\u001b[0mx\u001b[0m\u001b[0;34m.\u001b[0m\u001b[0mdtype\u001b[0m\u001b[0;34m)\u001b[0m\u001b[0;34m\u001b[0m\u001b[0m\n",
      "\u001b[0;31mTypeError\u001b[0m: unsupported operand type(s) for -: 'str' and 'str'"
     ]
    }
   ],
   "source": [
    "cleaned_data[\"duration\"]=cleaned_data.end_datetime-cleaned_data.begin_datetime"
   ]
  },
  {
   "cell_type": "markdown",
   "metadata": {
    "collapsed": true
   },
   "source": [
    "## Check Report Date if valid"
   ]
  },
  {
   "cell_type": "code",
   "execution_count": 24,
   "metadata": {
    "collapsed": false,
    "scrolled": true
   },
   "outputs": [],
   "source": [
    "cleaned_data.RPT_DT = pd.to_datetime(cleaned_data.RPT_DT,errors=\"ignore\",format=\"%m/%d/%Y\")"
   ]
  },
  {
   "cell_type": "code",
   "execution_count": 25,
   "metadata": {
    "collapsed": false
   },
   "outputs": [
    {
     "data": {
      "text/plain": [
       "Timestamp('2006-01-01 00:00:00')"
      ]
     },
     "execution_count": 25,
     "metadata": {},
     "output_type": "execute_result"
    }
   ],
   "source": [
    "min(cleaned_data.RPT_DT)"
   ]
  },
  {
   "cell_type": "code",
   "execution_count": 26,
   "metadata": {
    "collapsed": false
   },
   "outputs": [
    {
     "data": {
      "text/plain": [
       "Timestamp('2015-12-31 00:00:00')"
      ]
     },
     "execution_count": 26,
     "metadata": {},
     "output_type": "execute_result"
    }
   ],
   "source": [
    "max(cleaned_data.RPT_DT)"
   ]
  },
  {
   "cell_type": "code",
   "execution_count": 27,
   "metadata": {
    "collapsed": false
   },
   "outputs": [
    {
     "data": {
      "text/plain": [
       "0"
      ]
     },
     "execution_count": 27,
     "metadata": {},
     "output_type": "execute_result"
    }
   ],
   "source": [
    "sum(cleaned_data.RPT_DT.isnull())"
   ]
  },
  {
   "cell_type": "markdown",
   "metadata": {},
   "source": [
    "## Check Offense Classification Code"
   ]
  },
  {
   "cell_type": "code",
   "execution_count": 28,
   "metadata": {
    "collapsed": false,
    "scrolled": true
   },
   "outputs": [
    {
     "data": {
      "text/plain": [
       "341    822508\n",
       "578    604141\n",
       "344    521611\n",
       "351    433368\n",
       "109    429205\n",
       "235    285801\n",
       "361    283102\n",
       "105    198774\n",
       "107    191407\n",
       "106    184124\n",
       "126    112266\n",
       "110    102061\n",
       "359    100134\n",
       "347     73733\n",
       "236     73680\n",
       "121     72421\n",
       "352     66549\n",
       "117     62683\n",
       "348     59142\n",
       "112     56768\n",
       "118     50563\n",
       "113     49304\n",
       "233     44130\n",
       "340     32057\n",
       "232     20377\n",
       "358     17739\n",
       "360     16064\n",
       "114     13984\n",
       "353     13826\n",
       "104     13791\n",
       "        ...  \n",
       "675      1450\n",
       "342       908\n",
       "572       829\n",
       "363       810\n",
       "346       750\n",
       "356       618\n",
       "120       389\n",
       "230       300\n",
       "677       239\n",
       "571       207\n",
       "237       168\n",
       "115       122\n",
       "122       122\n",
       "234       111\n",
       "354        95\n",
       "102        93\n",
       "455        59\n",
       "119        48\n",
       "349        47\n",
       "366        45\n",
       "103        33\n",
       "676        31\n",
       "672        20\n",
       "685        18\n",
       "460        16\n",
       "881        13\n",
       "357        11\n",
       "123         4\n",
       "362         3\n",
       "577         3\n",
       "Name: KY_CD, dtype: int64"
      ]
     },
     "execution_count": 28,
     "metadata": {},
     "output_type": "execute_result"
    }
   ],
   "source": [
    "cleaned_data.KY_CD.value_counts()"
   ]
  },
  {
   "cell_type": "code",
   "execution_count": 29,
   "metadata": {
    "collapsed": false
   },
   "outputs": [
    {
     "data": {
      "text/plain": [
       "0"
      ]
     },
     "execution_count": 29,
     "metadata": {},
     "output_type": "execute_result"
    }
   ],
   "source": [
    "sum(cleaned_data.KY_CD.isnull())"
   ]
  },
  {
   "cell_type": "code",
   "execution_count": 30,
   "metadata": {
    "collapsed": false
   },
   "outputs": [
    {
     "data": {
      "text/plain": [
       "74"
      ]
     },
     "execution_count": 30,
     "metadata": {},
     "output_type": "execute_result"
    }
   ],
   "source": [
    "len(cleaned_data.KY_CD.unique())"
   ]
  },
  {
   "cell_type": "markdown",
   "metadata": {},
   "source": [
    "## Description of offense corresponding with key code"
   ]
  },
  {
   "cell_type": "code",
   "execution_count": 31,
   "metadata": {
    "collapsed": false
   },
   "outputs": [
    {
     "data": {
      "text/plain": [
       "71"
      ]
     },
     "execution_count": 31,
     "metadata": {},
     "output_type": "execute_result"
    }
   ],
   "source": [
    "len(cleaned_data.OFNS_DESC.unique())"
   ]
  },
  {
   "cell_type": "code",
   "execution_count": 32,
   "metadata": {
    "collapsed": false
   },
   "outputs": [
    {
     "data": {
      "text/plain": [
       "18840"
      ]
     },
     "execution_count": 32,
     "metadata": {},
     "output_type": "execute_result"
    }
   ],
   "source": [
    "sum(cleaned_data.OFNS_DESC.isnull())"
   ]
  },
  {
   "cell_type": "markdown",
   "metadata": {},
   "source": [
    "## Three digit internal classification code"
   ]
  },
  {
   "cell_type": "code",
   "execution_count": 33,
   "metadata": {
    "collapsed": false
   },
   "outputs": [
    {
     "data": {
      "text/plain": [
       "101.0    438130\n",
       "638.0    368119\n",
       "639.0    281278\n",
       "637.0    235959\n",
       "338.0    221734\n",
       "333.0    215446\n",
       "254.0    188807\n",
       "321.0    178035\n",
       "567.0    173044\n",
       "109.0    154046\n",
       "259.0    146449\n",
       "438.0    121739\n",
       "511.0     99943\n",
       "397.0     99645\n",
       "441.0     91883\n",
       "258.0     89416\n",
       "221.0     82516\n",
       "339.0     76594\n",
       "782.0     73653\n",
       "905.0     73005\n",
       "113.0     70185\n",
       "205.0     60001\n",
       "739.0     54563\n",
       "198.0     54032\n",
       "419.0     49615\n",
       "421.0     48550\n",
       "405.0     42892\n",
       "729.0     41503\n",
       "916.0     41455\n",
       "793.0     41046\n",
       "          ...  \n",
       "396.0         3\n",
       "685.0         3\n",
       "689.0         3\n",
       "622.0         3\n",
       "646.0         3\n",
       "796.0         3\n",
       "589.0         3\n",
       "845.0         3\n",
       "820.0         2\n",
       "614.0         2\n",
       "836.0         2\n",
       "861.0         2\n",
       "787.0         2\n",
       "387.0         2\n",
       "846.0         2\n",
       "860.0         2\n",
       "523.0         2\n",
       "694.0         2\n",
       "184.0         2\n",
       "178.0         2\n",
       "839.0         1\n",
       "522.0         1\n",
       "678.0         1\n",
       "815.0         1\n",
       "814.0         1\n",
       "819.0         1\n",
       "885.0         1\n",
       "146.0         1\n",
       "148.0         1\n",
       "975.0         1\n",
       "Name: PD_CD, dtype: int64"
      ]
     },
     "execution_count": 33,
     "metadata": {},
     "output_type": "execute_result"
    }
   ],
   "source": [
    "cleaned_data.PD_CD.value_counts()"
   ]
  },
  {
   "cell_type": "code",
   "execution_count": 34,
   "metadata": {
    "collapsed": false
   },
   "outputs": [
    {
     "data": {
      "text/plain": [
       "416"
      ]
     },
     "execution_count": 34,
     "metadata": {},
     "output_type": "execute_result"
    }
   ],
   "source": [
    "len(cleaned_data.PD_CD.unique())"
   ]
  },
  {
   "cell_type": "markdown",
   "metadata": {},
   "source": [
    "## Description of internal classification corresponding with PD code"
   ]
  },
  {
   "cell_type": "code",
   "execution_count": 35,
   "metadata": {
    "collapsed": false
   },
   "outputs": [
    {
     "data": {
      "text/plain": [
       "404"
      ]
     },
     "execution_count": 35,
     "metadata": {},
     "output_type": "execute_result"
    }
   ],
   "source": [
    "len(cleaned_data.PD_DESC.unique())"
   ]
  },
  {
   "cell_type": "markdown",
   "metadata": {},
   "source": [
    "## Crime Indicator"
   ]
  },
  {
   "cell_type": "code",
   "execution_count": 36,
   "metadata": {
    "collapsed": false
   },
   "outputs": [
    {
     "data": {
      "text/plain": [
       "COMPLETED    5013311\n",
       "ATTEMPTED      87913\n",
       "Name: CRM_ATPT_CPTD_CD, dtype: int64"
      ]
     },
     "execution_count": 36,
     "metadata": {},
     "output_type": "execute_result"
    }
   ],
   "source": [
    "cleaned_data.CRM_ATPT_CPTD_CD.value_counts()"
   ]
  },
  {
   "cell_type": "code",
   "execution_count": 37,
   "metadata": {
    "collapsed": false
   },
   "outputs": [
    {
     "data": {
      "text/plain": [
       "7"
      ]
     },
     "execution_count": 37,
     "metadata": {},
     "output_type": "execute_result"
    }
   ],
   "source": [
    "sum(cleaned_data.CRM_ATPT_CPTD_CD.isnull())"
   ]
  },
  {
   "cell_type": "code",
   "execution_count": 38,
   "metadata": {
    "collapsed": false
   },
   "outputs": [
    {
     "data": {
      "text/plain": [
       "899205     NaN\n",
       "1325328    NaN\n",
       "2075706    NaN\n",
       "2152660    NaN\n",
       "4746958    NaN\n",
       "4747214    NaN\n",
       "4750394    NaN\n",
       "Name: CRM_ATPT_CPTD_CD, dtype: object"
      ]
     },
     "execution_count": 38,
     "metadata": {},
     "output_type": "execute_result"
    }
   ],
   "source": [
    "cleaned_data[cleaned_data.CRM_ATPT_CPTD_CD.isnull()].CRM_ATPT_CPTD_CD"
   ]
  },
  {
   "cell_type": "markdown",
   "metadata": {},
   "source": [
    "## Level of offense"
   ]
  },
  {
   "cell_type": "code",
   "execution_count": 39,
   "metadata": {
    "collapsed": false
   },
   "outputs": [
    {
     "data": {
      "text/plain": [
       "MISDEMEANOR    2918574\n",
       "FELONY         1567423\n",
       "VIOLATION       615234\n",
       "Name: LAW_CAT_CD, dtype: int64"
      ]
     },
     "execution_count": 39,
     "metadata": {},
     "output_type": "execute_result"
    }
   ],
   "source": [
    "cleaned_data.LAW_CAT_CD.value_counts()"
   ]
  },
  {
   "cell_type": "code",
   "execution_count": 40,
   "metadata": {
    "collapsed": false
   },
   "outputs": [
    {
     "data": {
      "text/plain": [
       "0"
      ]
     },
     "execution_count": 40,
     "metadata": {},
     "output_type": "execute_result"
    }
   ],
   "source": [
    "sum(cleaned_data.LAW_CAT_CD.isnull())"
   ]
  },
  {
   "cell_type": "markdown",
   "metadata": {},
   "source": [
    "## Jurisdiction responsibility description"
   ]
  },
  {
   "cell_type": "code",
   "execution_count": 43,
   "metadata": {
    "collapsed": false,
    "scrolled": true
   },
   "outputs": [
    {
     "data": {
      "text/plain": [
       "N.Y. POLICE DEPT                       4538344\n",
       "N.Y. HOUSING POLICE                     390853\n",
       "N.Y. TRANSIT POLICE                     108817\n",
       "PORT AUTHORITY                           24657\n",
       "OTHER                                    13575\n",
       "POLICE DEPT NYC                           8986\n",
       "DEPT OF CORRECTIONS                       4825\n",
       "TRI-BORO BRDG TUNNL                       4633\n",
       "HEALTH & HOSP CORP                        2590\n",
       "N.Y. STATE POLICE                         1209\n",
       "METRO NORTH                                531\n",
       "FIRE DEPT (FIRE MARSHAL)                   514\n",
       "LONG ISLAND RAILRD                         439\n",
       "STATN IS RAPID TRANS                       306\n",
       "N.Y. STATE PARKS                           272\n",
       "U.S. PARK POLICE                           185\n",
       "AMTRACK                                    153\n",
       "NEW YORK CITY SHERIFF OFFICE               134\n",
       "NYS DEPT TAX AND FINANCE                    77\n",
       "NYC PARKS                                   71\n",
       "SEA GATE POLICE DEPT                        30\n",
       "NYC DEPT ENVIRONMENTAL PROTECTION           14\n",
       "CONRAIL                                     14\n",
       "NYS DEPT ENVIRONMENTAL CONSERVATION          1\n",
       "DISTRICT ATTORNEY OFFICE                     1\n",
       "Name: JURIS_DESC, dtype: int64"
      ]
     },
     "execution_count": 43,
     "metadata": {},
     "output_type": "execute_result"
    }
   ],
   "source": [
    "cleaned_data.JURIS_DESC.value_counts()"
   ]
  },
  {
   "cell_type": "code",
   "execution_count": 44,
   "metadata": {
    "collapsed": false
   },
   "outputs": [
    {
     "data": {
      "text/plain": [
       "0"
      ]
     },
     "execution_count": 44,
     "metadata": {},
     "output_type": "execute_result"
    }
   ],
   "source": [
    "sum(cleaned_data.JURIS_DESC.isnull())"
   ]
  },
  {
   "cell_type": "code",
   "execution_count": null,
   "metadata": {
    "collapsed": true
   },
   "outputs": [],
   "source": []
  }
 ],
 "metadata": {
  "anaconda-cloud": {},
  "kernelspec": {
   "display_name": "Python [conda root]",
   "language": "python",
   "name": "conda-root-py"
  },
  "language_info": {
   "codemirror_mode": {
    "name": "ipython",
    "version": 3
   },
   "file_extension": ".py",
   "mimetype": "text/x-python",
   "name": "python",
   "nbconvert_exporter": "python",
   "pygments_lexer": "ipython3",
   "version": "3.5.2"
  }
 },
 "nbformat": 4,
 "nbformat_minor": 1
}
